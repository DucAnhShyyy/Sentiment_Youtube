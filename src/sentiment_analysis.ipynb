{
 "cells": [
  {
   "cell_type": "markdown",
   "id": "d1bf78a2",
   "metadata": {},
   "source": [
    "Các thành viên nhóm:\n",
    "* Nguyễn Đức Anh\n",
    "* Nguyễn Mạnh Dũng\n",
    "* Nguyễn Hoàng Nghĩa\n",
    "* Nguyễn Khánh Toàn\n",
    "* Chu Cao Nguyên"
   ]
  },
  {
   "cell_type": "markdown",
   "id": "c2959ea8",
   "metadata": {},
   "source": [
    "Giới thiệu dự án: Dự án dưới đây có chủ đề Sentiment Analysis với dữ liệu là phần bình luận (Comments) ở các kênh tiếng Việt trên nền tảng video trực tuyến hàng đầu thế giới là Youtube. \n",
    "\n",
    "Mục đích: Cung cấp các kĩ thuật trong việc phân tích và dự đoán cảm xúc của người xem/ người bình luận đối với nội dung video được đăng tải cũng như nội dung trên các kênh.\n",
    "\n",
    "Lợi ích:\n",
    "* Người xem: Giúp cho người xem xác định được những kênh/ nội dung được phản hồi ra sao bởi những người xem khác để có thể đưa ra lựa chọn. \n",
    "* Người đăng tải: Nhận biết được phản hồi của người xem với nội dung trên kênh để có thể cải thiện hiệu quả, đưa ra giải pháp giúp kênh tối ưu.\n",
    "* Nền tảng: Xác định được các kênh/ video truyền tải nội dung như thế nào trên quan điểm/ góc nhìn của người xem để có giải pháp can thiệp nếu cần.\n",
    "\n",
    "Ứng dụng:\n",
    "* Phát hiện các video truyền tải nội dung xuyên tạc, tiêu cực tới cộng đồng\n",
    "* Recommendation system: Hướng người xem tới các nội dung được phản hồi tích cực từ người xem khác (user- user collaboration) hoặc gợi ý các video có phản hồi tích cực tương tự các video mà người dùng đã xem (item -item collaboration)"
   ]
  },
  {
   "cell_type": "markdown",
   "id": "e4993ddd",
   "metadata": {},
   "source": [
    "Các thư viện cần dùng"
   ]
  },
  {
   "cell_type": "code",
   "execution_count": 1,
   "id": "62180e41",
   "metadata": {},
   "outputs": [
    {
     "data": {
      "text/plain": [
       "True"
      ]
     },
     "execution_count": 1,
     "metadata": {},
     "output_type": "execute_result"
    }
   ],
   "source": [
    "import numpy as np\n",
    "import pandas as pd\n",
    "import matplotlib.pyplot as plt\n",
    "import seaborn as sns\n",
    "from datetime import datetime\n",
    "import string\n",
    "import requests\n",
    "import os\n",
    "import csv\n",
    "import time\n",
    "from dotenv import load_dotenv\n",
    "load_dotenv()"
   ]
  },
  {
   "cell_type": "code",
   "execution_count": 2,
   "id": "d5d0d4b1",
   "metadata": {},
   "outputs": [
    {
     "name": "stderr",
     "output_type": "stream",
     "text": [
      "[nltk_data] Downloading package punkt to\n",
      "[nltk_data]     C:\\Users\\admin\\AppData\\Roaming\\nltk_data...\n",
      "[nltk_data]   Package punkt is already up-to-date!\n",
      "[nltk_data] Downloading package wordnet to\n",
      "[nltk_data]     C:\\Users\\admin\\AppData\\Roaming\\nltk_data...\n",
      "[nltk_data]   Package wordnet is already up-to-date!\n",
      "[nltk_data] Downloading package stopwords to\n",
      "[nltk_data]     C:\\Users\\admin\\AppData\\Roaming\\nltk_data...\n",
      "[nltk_data]   Package stopwords is already up-to-date!\n"
     ]
    }
   ],
   "source": [
    "from googleapiclient.discovery import build\n",
    "from sklearn.model_selection import train_test_split\n",
    "from sklearn.feature_extraction.text import CountVectorizer, TfidfVectorizer\n",
    "from sklearn.linear_model import LogisticRegression\n",
    "from sklearn.naive_bayes import MultinomialNB\n",
    "from sklearn.metrics import classification_report, confusion_matrix\n",
    "import nltk\n",
    "from nltk.sentiment import SentimentIntensityAnalyzer\n",
    "from nltk.tokenize import word_tokenize\n",
    "from nltk.stem import WordNetLemmatizer\n",
    "import nltk\n",
    "nltk.download('punkt')\n",
    "nltk.download('wordnet')\n",
    "nltk.download('stopwords')\n",
    "from nltk.corpus import stopwords"
   ]
  },
  {
   "cell_type": "code",
   "execution_count": 3,
   "id": "1401f8b7",
   "metadata": {},
   "outputs": [],
   "source": [
    "from word2number import w2n\n",
    "import emoji\n",
    "from num2words import num2words\n",
    "from bs4 import BeautifulSoup\n",
    "from underthesea import word_tokenize\n",
    "from underthesea import pos_tag, chunk, ner, text_normalize\n",
    "from viet_badwords_filter.filter import VNBadwordsFilter"
   ]
  },
  {
   "cell_type": "code",
   "execution_count": 4,
   "id": "9a95abd5",
   "metadata": {},
   "outputs": [],
   "source": [
    "from sklearn.linear_model import LogisticRegression\n",
    "from sklearn.naive_bayes import MultinomialNB\n",
    "from sklearn.svm import SVC\n",
    "from sklearn.neighbors import KNeighborsClassifier\n",
    "from sklearn.ensemble import RandomForestClassifier\n",
    "from sklearn.tree import DecisionTreeClassifier\n",
    "from sklearn.metrics import accuracy_score"
   ]
  },
  {
   "cell_type": "markdown",
   "id": "ab475316",
   "metadata": {},
   "source": [
    "Youtube set up API key"
   ]
  },
  {
   "cell_type": "markdown",
   "id": "31835c71",
   "metadata": {},
   "source": [
    "Sử dụng Google Console để lấy API Key"
   ]
  },
  {
   "cell_type": "code",
   "execution_count": 5,
   "id": "43010a23",
   "metadata": {},
   "outputs": [],
   "source": [
    "# YouTube API setup\n",
    "# Replace with your API key\n",
    "api_key = os.getenv('YOUTUBE_API_KEY')\n",
    "youtube = build('youtube', 'v3', developerKey=api_key)"
   ]
  },
  {
   "cell_type": "markdown",
   "id": "34c57431",
   "metadata": {},
   "source": [
    "Extract video"
   ]
  },
  {
   "cell_type": "code",
   "execution_count": 6,
   "id": "a21c45c1",
   "metadata": {},
   "outputs": [],
   "source": [
    "import re\n",
    "def extract_video_id(url):\n",
    "    \"\"\"\n",
    "    Extract the video ID from a YouTube URL.\n",
    "    Args:\n",
    "    url (str): The YouTube video URL.\n",
    "    Returns:\n",
    "    str: The video ID or None if invalid URL.\n",
    "    \"\"\"\n",
    "    # Regular expression to match YouTube video IDs\n",
    "    video_id_match = re.search(r\"v=([a-zA-Z0-9_-]{11})\", url)\n",
    "    if video_id_match:\n",
    "        return video_id_match.group(1)\n",
    "    else:\n",
    "        print(\"Invalid YouTube URL.\")\n",
    "        return None"
   ]
  },
  {
   "cell_type": "code",
   "execution_count": 7,
   "id": "a03e1ac8",
   "metadata": {},
   "outputs": [
    {
     "name": "stdout",
     "output_type": "stream",
     "text": [
      "Video ID: 5LxjFoypQo4\n"
     ]
    }
   ],
   "source": [
    "url = 'https://www.youtube.com/watch?v=5LxjFoypQo4'\n",
    "video_id = extract_video_id(url)\n",
    "print(\"Video ID:\", video_id)"
   ]
  },
  {
   "cell_type": "markdown",
   "id": "a8d0ff1b",
   "metadata": {},
   "source": [
    "Extract Comments"
   ]
  },
  {
   "cell_type": "code",
   "execution_count": 8,
   "id": "1df2e516",
   "metadata": {},
   "outputs": [],
   "source": [
    "def get_comments(video_id):\n",
    "    comments = []\n",
    "    request = youtube.commentThreads().list(\n",
    "        part=\"snippet\",\n",
    "        videoId=video_id,\n",
    "        maxResults=100\n",
    "    )\n",
    "    response = request.execute()\n",
    "\n",
    "    while response:\n",
    "        for item in response['items']:\n",
    "            comment = item['snippet']['topLevelComment']['snippet']['textDisplay']\n",
    "            author = item['snippet']['topLevelComment']['snippet']['authorDisplayName']\n",
    "            comments.append({\"Author\": author, \"Comment\": comment})\n",
    "        \n",
    "        if 'nextPageToken' in response:\n",
    "            request = youtube.commentThreads().list(\n",
    "                part=\"snippet\",\n",
    "                videoId=video_id,\n",
    "                pageToken=response['nextPageToken'],\n",
    "                maxResults=100\n",
    "            )\n",
    "            response = request.execute()\n",
    "        else:\n",
    "            break\n",
    "    return comments"
   ]
  },
  {
   "cell_type": "markdown",
   "id": "ea10246c",
   "metadata": {},
   "source": [
    "Save to file"
   ]
  },
  {
   "cell_type": "code",
   "execution_count": 9,
   "id": "385d65fc",
   "metadata": {},
   "outputs": [
    {
     "name": "stdout",
     "output_type": "stream",
     "text": [
      "Comments saved to youtube_comments.csv\n"
     ]
    }
   ],
   "source": [
    "comments = get_comments(video_id)\n",
    "df = pd.DataFrame(comments)\n",
    "df.to_csv(\"youtube_comments.csv\", index=False)\n",
    "print(\"Comments saved to youtube_comments.csv\")"
   ]
  },
  {
   "cell_type": "markdown",
   "id": "9a8bf2f2",
   "metadata": {},
   "source": [
    "**Note**: Dữ liệu hiện tại không có nhãn sẵn, do đây không phải dataset có sẵn\n",
    "\n",
    "Nhóm có 2 hướng xử lí:\n",
    "1. Label thủ công: phù hợp với dữ liệu nhỏ, có dư dả thời gian (nhóm đã test)\n",
    "2. Label bằng lập trình: sử dụng từ điển các từ tốt/ xấu trong tiếng Việt"
   ]
  },
  {
   "cell_type": "markdown",
   "id": "483dc50d",
   "metadata": {},
   "source": [
    "Data Analysis"
   ]
  },
  {
   "cell_type": "code",
   "execution_count": 10,
   "id": "10c5add7",
   "metadata": {},
   "outputs": [
    {
     "data": {
      "text/html": [
       "<div>\n",
       "<style scoped>\n",
       "    .dataframe tbody tr th:only-of-type {\n",
       "        vertical-align: middle;\n",
       "    }\n",
       "\n",
       "    .dataframe tbody tr th {\n",
       "        vertical-align: top;\n",
       "    }\n",
       "\n",
       "    .dataframe thead th {\n",
       "        text-align: right;\n",
       "    }\n",
       "</style>\n",
       "<table border=\"1\" class=\"dataframe\">\n",
       "  <thead>\n",
       "    <tr style=\"text-align: right;\">\n",
       "      <th></th>\n",
       "      <th>Author</th>\n",
       "      <th>Comment</th>\n",
       "    </tr>\n",
       "  </thead>\n",
       "  <tbody>\n",
       "    <tr>\n",
       "      <th>0</th>\n",
       "      <td>@blvanhquan68</td>\n",
       "      <td>Chúc mừng Viettel đã lên ngôi V.League 1 mùa g...</td>\n",
       "    </tr>\n",
       "    <tr>\n",
       "      <th>1</th>\n",
       "      <td>@hihieas</td>\n",
       "      <td>Biết là VĂN QUYẾN sai nhưng mà nói đúng cầu th...</td>\n",
       "    </tr>\n",
       "    <tr>\n",
       "      <th>2</th>\n",
       "      <td>@NghinhBinh-u4p</td>\n",
       "      <td>Vẫn là đỉnh cao</td>\n",
       "    </tr>\n",
       "    <tr>\n",
       "      <th>3</th>\n",
       "      <td>@Fox17vn</td>\n",
       "      <td>xin hoi tai sao ko thi dau nua</td>\n",
       "    </tr>\n",
       "    <tr>\n",
       "      <th>4</th>\n",
       "      <td>@truongthan9998</td>\n",
       "      <td>Loại người bán dẻ đất nước</td>\n",
       "    </tr>\n",
       "  </tbody>\n",
       "</table>\n",
       "</div>"
      ],
      "text/plain": [
       "            Author                                            Comment\n",
       "0    @blvanhquan68  Chúc mừng Viettel đã lên ngôi V.League 1 mùa g...\n",
       "1         @hihieas  Biết là VĂN QUYẾN sai nhưng mà nói đúng cầu th...\n",
       "2  @NghinhBinh-u4p                                    Vẫn là đỉnh cao\n",
       "3         @Fox17vn                     xin hoi tai sao ko thi dau nua\n",
       "4  @truongthan9998                         Loại người bán dẻ đất nước"
      ]
     },
     "execution_count": 10,
     "metadata": {},
     "output_type": "execute_result"
    }
   ],
   "source": [
    "data = pd.read_csv(\"youtube_comments.csv\")\n",
    "data.head()"
   ]
  },
  {
   "cell_type": "code",
   "execution_count": 11,
   "id": "986f4a86",
   "metadata": {},
   "outputs": [
    {
     "data": {
      "text/plain": [
       "(4013, 2)"
      ]
     },
     "execution_count": 11,
     "metadata": {},
     "output_type": "execute_result"
    }
   ],
   "source": [
    "data.shape"
   ]
  },
  {
   "cell_type": "code",
   "execution_count": 12,
   "id": "12df5d26",
   "metadata": {},
   "outputs": [
    {
     "name": "stdout",
     "output_type": "stream",
     "text": [
      "<class 'pandas.core.frame.DataFrame'>\n",
      "RangeIndex: 4013 entries, 0 to 4012\n",
      "Data columns (total 2 columns):\n",
      " #   Column   Non-Null Count  Dtype \n",
      "---  ------   --------------  ----- \n",
      " 0   Author   3998 non-null   object\n",
      " 1   Comment  4013 non-null   object\n",
      "dtypes: object(2)\n",
      "memory usage: 62.8+ KB\n"
     ]
    }
   ],
   "source": [
    "data.info()"
   ]
  },
  {
   "cell_type": "markdown",
   "id": "fe2165ca",
   "metadata": {},
   "source": [
    "Đánh nhãn cho bình luận (Comments)"
   ]
  },
  {
   "cell_type": "code",
   "execution_count": 13,
   "id": "dff45d20",
   "metadata": {},
   "outputs": [],
   "source": [
    "positive_words = [\n",
    "        \"tuyệt vời\", \"xuất sắc\", \"đỉnh\", \"hay\", \"vui\", \"hài hước\", \"đẹp\", \"tốt\", \"thông minh\", \"chất lượng\",\n",
    "        \"hiệu quả\", \"ấn tượng\", \"hữu ích\", \"tử tế\", \"dễ thương\", \"thân thiện\", \"chu đáo\", \"tinh tế\", \"mượt mà\", \"nhanh chóng\",\n",
    "        \"chuyên nghiệp\", \"đáng yêu\", \"đáng tin\", \"yên tâm\", \"đáng giá\", \"sáng tạo\", \"nổi bật\", \"gọn gàng\", \"sạch sẽ\", \"ấm cúng\",\n",
    "        \"trẻ trung\", \"tận tình\", \"hài lòng\", \"thú vị\", \"tận tâm\", \"đáng nể\", \"hấp dẫn\", \"ngon\", \"mạnh mẽ\", \"sôi nổi\",\n",
    "        \"cởi mở\", \"nhiệt tình\", \"nhiệt huyết\", \"sống động\", \"lịch sự\", \"vui vẻ\", \"tôn trọng\", \"yêu thích\", \"gần gũi\", \"tự nhiên\",\n",
    "        \"đam mê\", \"kiên nhẫn\", \"chuẩn chỉnh\", \"lôi cuốn\", \"sâu sắc\", \"nổi trội\", \"hòa đồng\", \"ngăn nắp\", \"thông thái\", \"bổ ích\",\n",
    "        \"trọn vẹn\", \"dễ chịu\", \"hài hòa\", \"lành mạnh\", \"nhẹ nhàng\", \"kỹ lưỡng\", \"cẩn thận\", \"đa năng\", \"thần thái\", \"thành công\",\n",
    "        \"xinh đẹp\", \"nổi tiếng\", \"có tâm\", \"có tầm\", \"vượt trội\", \"hoàn hảo\", \"tinh xảo\", \"độc đáo\", \"đa dạng\", \"linh hoạt\",\n",
    "        \"dễ hiểu\", \"giao tiếp tốt\", \"thích thú\", \"thấu hiểu\", \"bao dung\", \"sáng sủa\", \"rõ ràng\", \"phù hợp\", \"nhẹ nhàng\", \"rộng rãi\",\n",
    "        \"đậm đà\", \"thơm ngon\", \"dồi dào\", \"an toàn\", \"trách nhiệm\", \"kiên cường\", \"ổn định\", \"khéo léo\", \"phấn khởi\", \"thành thạo\"\n",
    "    ]\n",
    "\n",
    "more_bad_words_related_to_football = ['xấu', 'cáo già', 'trơ trãn', 'vịt', 'vỡ vẩn']"
   ]
  },
  {
   "cell_type": "code",
   "execution_count": 14,
   "id": "1085d651",
   "metadata": {},
   "outputs": [],
   "source": [
    "filter = VNBadwordsFilter()\n",
    "\n",
    "def label_comments(data, positive_words, bad_words, column='Comment'):\n",
    "    import pandas as pd\n",
    "\n",
    "    # Nếu là Series thì chuyển thành DataFrame\n",
    "    if isinstance(data, pd.Series):\n",
    "        df = pd.DataFrame({column: data})\n",
    "    else:\n",
    "        df = data.copy()\n",
    "\n",
    "    # Đảm bảo xử lý NaN\n",
    "    df[column] = df[column].fillna(\"\").astype(str).str.lower()\n",
    "\n",
    "    def classify(text):\n",
    "        if any(word in text for word in positive_words):\n",
    "            return 'Positive'\n",
    "        elif filter.is_profane(text) or any(word in text for word in bad_words) :  \n",
    "            return 'Negative'\n",
    "        else:\n",
    "            return 'Neutral'\n",
    "\n",
    "    df['Label'] = df[column].apply(classify)\n",
    "    return df"
   ]
  },
  {
   "cell_type": "code",
   "execution_count": 15,
   "id": "de566087",
   "metadata": {},
   "outputs": [
    {
     "data": {
      "text/html": [
       "<div>\n",
       "<style scoped>\n",
       "    .dataframe tbody tr th:only-of-type {\n",
       "        vertical-align: middle;\n",
       "    }\n",
       "\n",
       "    .dataframe tbody tr th {\n",
       "        vertical-align: top;\n",
       "    }\n",
       "\n",
       "    .dataframe thead th {\n",
       "        text-align: right;\n",
       "    }\n",
       "</style>\n",
       "<table border=\"1\" class=\"dataframe\">\n",
       "  <thead>\n",
       "    <tr style=\"text-align: right;\">\n",
       "      <th></th>\n",
       "      <th>Author</th>\n",
       "      <th>Comment</th>\n",
       "      <th>Label</th>\n",
       "    </tr>\n",
       "  </thead>\n",
       "  <tbody>\n",
       "    <tr>\n",
       "      <th>0</th>\n",
       "      <td>@blvanhquan68</td>\n",
       "      <td>chúc mừng viettel đã lên ngôi v.league 1 mùa g...</td>\n",
       "      <td>Neutral</td>\n",
       "    </tr>\n",
       "    <tr>\n",
       "      <th>1</th>\n",
       "      <td>@hihieas</td>\n",
       "      <td>biết là văn quyến sai nhưng mà nói đúng cầu th...</td>\n",
       "      <td>Neutral</td>\n",
       "    </tr>\n",
       "    <tr>\n",
       "      <th>2</th>\n",
       "      <td>@NghinhBinh-u4p</td>\n",
       "      <td>vẫn là đỉnh cao</td>\n",
       "      <td>Positive</td>\n",
       "    </tr>\n",
       "    <tr>\n",
       "      <th>3</th>\n",
       "      <td>@Fox17vn</td>\n",
       "      <td>xin hoi tai sao ko thi dau nua</td>\n",
       "      <td>Neutral</td>\n",
       "    </tr>\n",
       "    <tr>\n",
       "      <th>4</th>\n",
       "      <td>@truongthan9998</td>\n",
       "      <td>loại người bán dẻ đất nước</td>\n",
       "      <td>Neutral</td>\n",
       "    </tr>\n",
       "  </tbody>\n",
       "</table>\n",
       "</div>"
      ],
      "text/plain": [
       "            Author                                            Comment  \\\n",
       "0    @blvanhquan68  chúc mừng viettel đã lên ngôi v.league 1 mùa g...   \n",
       "1         @hihieas  biết là văn quyến sai nhưng mà nói đúng cầu th...   \n",
       "2  @NghinhBinh-u4p                                    vẫn là đỉnh cao   \n",
       "3         @Fox17vn                     xin hoi tai sao ko thi dau nua   \n",
       "4  @truongthan9998                         loại người bán dẻ đất nước   \n",
       "\n",
       "      Label  \n",
       "0   Neutral  \n",
       "1   Neutral  \n",
       "2  Positive  \n",
       "3   Neutral  \n",
       "4   Neutral  "
      ]
     },
     "execution_count": 15,
     "metadata": {},
     "output_type": "execute_result"
    }
   ],
   "source": [
    "data = label_comments(data, positive_words, more_bad_words_related_to_football)\n",
    "data.head()"
   ]
  },
  {
   "cell_type": "code",
   "execution_count": 16,
   "id": "e0e7c6e1",
   "metadata": {},
   "outputs": [
    {
     "data": {
      "text/plain": [
       "Label\n",
       "Neutral     3176\n",
       "Positive     673\n",
       "Negative     164\n",
       "Name: count, dtype: int64"
      ]
     },
     "execution_count": 16,
     "metadata": {},
     "output_type": "execute_result"
    }
   ],
   "source": [
    "data['Label'].value_counts()"
   ]
  },
  {
   "cell_type": "code",
   "execution_count": 17,
   "id": "43bd7fb7",
   "metadata": {},
   "outputs": [],
   "source": [
    "# Tách các lớp\n",
    "neutral_df = data[data['Label'] == 'Neutral']\n",
    "positive_df = data[data['Label'] == 'Positive']\n",
    "negative_df = data[data['Label'] == 'Negative']"
   ]
  },
  {
   "cell_type": "code",
   "execution_count": 18,
   "id": "7df191fc",
   "metadata": {},
   "outputs": [],
   "source": [
    "from sklearn.utils import resample\n",
    "# Tăng lớp Positive và Negative lên 3175\n",
    "positive_upsampled = resample(positive_df,\n",
    "                              replace=True,\n",
    "                              n_samples=3175,\n",
    "                              random_state=42)\n",
    "\n",
    "negative_upsampled = resample(negative_df,\n",
    "                              replace=True,\n",
    "                              n_samples=3175,\n",
    "                              random_state=42)\n",
    "\n",
    "# Ghép lại\n",
    "data = pd.concat([neutral_df, positive_upsampled, negative_upsampled])"
   ]
  },
  {
   "cell_type": "code",
   "execution_count": 19,
   "id": "222b4b6d",
   "metadata": {},
   "outputs": [
    {
     "name": "stdout",
     "output_type": "stream",
     "text": [
      "<class 'pandas.core.frame.DataFrame'>\n",
      "Index: 9526 entries, 0 to 2300\n",
      "Data columns (total 3 columns):\n",
      " #   Column   Non-Null Count  Dtype \n",
      "---  ------   --------------  ----- \n",
      " 0   Author   9499 non-null   object\n",
      " 1   Comment  9526 non-null   object\n",
      " 2   Label    9526 non-null   object\n",
      "dtypes: object(3)\n",
      "memory usage: 297.7+ KB\n"
     ]
    }
   ],
   "source": [
    "data.info()"
   ]
  },
  {
   "cell_type": "markdown",
   "id": "42533230",
   "metadata": {},
   "source": [
    "Phương pháp 2: Đánh nhãn random (nhóm không sử dụng)"
   ]
  },
  {
   "cell_type": "code",
   "execution_count": 20,
   "id": "e9cb4d7d",
   "metadata": {},
   "outputs": [],
   "source": [
    "def assign_labels(df):\n",
    "    # TODO: Replace with real label logic or pre-labelled dataset\n",
    "    # Tạm thời tạo label giả random\n",
    "    df['Label'] = np.random.choice(['Positive', 'Neutral', 'Negative'], len(df))\n",
    "    return df"
   ]
  },
  {
   "cell_type": "code",
   "execution_count": 21,
   "id": "9fdf0d90",
   "metadata": {},
   "outputs": [],
   "source": [
    "data.drop(columns=['Author'], inplace=True)"
   ]
  },
  {
   "cell_type": "code",
   "execution_count": 22,
   "id": "a0a46680",
   "metadata": {},
   "outputs": [
    {
     "name": "stdout",
     "output_type": "stream",
     "text": [
      "<class 'pandas.core.frame.DataFrame'>\n",
      "Index: 9526 entries, 0 to 2300\n",
      "Data columns (total 2 columns):\n",
      " #   Column   Non-Null Count  Dtype \n",
      "---  ------   --------------  ----- \n",
      " 0   Comment  9526 non-null   object\n",
      " 1   Label    9526 non-null   object\n",
      "dtypes: object(2)\n",
      "memory usage: 223.3+ KB\n"
     ]
    }
   ],
   "source": [
    "data.info()"
   ]
  },
  {
   "cell_type": "markdown",
   "id": "d99a86bd",
   "metadata": {},
   "source": [
    "EDA"
   ]
  },
  {
   "cell_type": "markdown",
   "id": "07208e16",
   "metadata": {},
   "source": [
    "Kiểm tra dữ liệu bình luận (Comments):\n",
    "* Lượng từ xuất hiện trong câu\n",
    "* Các từ/ cụm từ xuất hiện nhiều nhất"
   ]
  },
  {
   "cell_type": "code",
   "execution_count": 23,
   "id": "c4e90476",
   "metadata": {},
   "outputs": [
    {
     "name": "stdout",
     "output_type": "stream",
     "text": [
      "Length of a sample comment: 320\n"
     ]
    }
   ],
   "source": [
    "lenght = len(data['Comment'][0])\n",
    "print(f'Length of a sample comment: {lenght}')"
   ]
  },
  {
   "cell_type": "code",
   "execution_count": 24,
   "id": "8c8b1b2c",
   "metadata": {},
   "outputs": [
    {
     "name": "stdout",
     "output_type": "stream",
     "text": [
      "Word count in a sample comment: 42\n"
     ]
    }
   ],
   "source": [
    "word_count = data['Comment'][0].split()\n",
    "print(f'Word count in a sample comment: {len(word_count)}')"
   ]
  },
  {
   "cell_type": "code",
   "execution_count": 25,
   "id": "935e5ba5",
   "metadata": {},
   "outputs": [],
   "source": [
    "data1 = data.copy()"
   ]
  },
  {
   "cell_type": "markdown",
   "id": "bece4362",
   "metadata": {},
   "source": [
    "Term Frequency Analysis\n",
    "\n",
    "Examining the most frequently occuring words is one of the most popular systems of Text analytics. For example, in a sentiment analysis problem, a positive text is bound to have words like 'good', 'great', 'nice', etc. more in number than other words that imply otherwise.\n",
    "\n",
    "Note: Term Frequencies are more than counts and lenghts, so the first requirement is to preprocess the text"
   ]
  },
  {
   "cell_type": "code",
   "execution_count": 26,
   "id": "253caf83",
   "metadata": {},
   "outputs": [
    {
     "data": {
      "text/html": [
       "<div>\n",
       "<style scoped>\n",
       "    .dataframe tbody tr th:only-of-type {\n",
       "        vertical-align: middle;\n",
       "    }\n",
       "\n",
       "    .dataframe tbody tr th {\n",
       "        vertical-align: top;\n",
       "    }\n",
       "\n",
       "    .dataframe thead th {\n",
       "        text-align: right;\n",
       "    }\n",
       "</style>\n",
       "<table border=\"1\" class=\"dataframe\">\n",
       "  <thead>\n",
       "    <tr style=\"text-align: right;\">\n",
       "      <th></th>\n",
       "      <th>Comment</th>\n",
       "      <th>Label</th>\n",
       "      <th>mean_word_length</th>\n",
       "    </tr>\n",
       "  </thead>\n",
       "  <tbody>\n",
       "    <tr>\n",
       "      <th>0</th>\n",
       "      <td>chúc mừng viettel đã lên ngôi v.league 1 mùa g...</td>\n",
       "      <td>Neutral</td>\n",
       "      <td>6.642857</td>\n",
       "    </tr>\n",
       "    <tr>\n",
       "      <th>1</th>\n",
       "      <td>biết là văn quyến sai nhưng mà nói đúng cầu th...</td>\n",
       "      <td>Neutral</td>\n",
       "      <td>3.520000</td>\n",
       "    </tr>\n",
       "    <tr>\n",
       "      <th>3</th>\n",
       "      <td>xin hoi tai sao ko thi dau nua</td>\n",
       "      <td>Neutral</td>\n",
       "      <td>2.875000</td>\n",
       "    </tr>\n",
       "    <tr>\n",
       "      <th>4</th>\n",
       "      <td>loại người bán dẻ đất nước</td>\n",
       "      <td>Neutral</td>\n",
       "      <td>3.500000</td>\n",
       "    </tr>\n",
       "    <tr>\n",
       "      <th>5</th>\n",
       "      <td>1 thg chăn bò đi đá bóng quốc gia thì ko bán đ...</td>\n",
       "      <td>Neutral</td>\n",
       "      <td>2.666667</td>\n",
       "    </tr>\n",
       "    <tr>\n",
       "      <th>6</th>\n",
       "      <td>dù đã qua cách đây 20 năm rùi,nhưng lối đá vq ...</td>\n",
       "      <td>Neutral</td>\n",
       "      <td>3.372093</td>\n",
       "    </tr>\n",
       "    <tr>\n",
       "      <th>9</th>\n",
       "      <td>có tài mà ko có đức thì cũng vất</td>\n",
       "      <td>Neutral</td>\n",
       "      <td>2.666667</td>\n",
       "    </tr>\n",
       "    <tr>\n",
       "      <th>10</th>\n",
       "      <td>trăm năm việt nam mới có 1 thiên tài bóng đá</td>\n",
       "      <td>Neutral</td>\n",
       "      <td>3.090909</td>\n",
       "    </tr>\n",
       "    <tr>\n",
       "      <th>11</th>\n",
       "      <td>bóng đá việt nam ko ai có thể qua được cậu bé ...</td>\n",
       "      <td>Neutral</td>\n",
       "      <td>3.266667</td>\n",
       "    </tr>\n",
       "    <tr>\n",
       "      <th>12</th>\n",
       "      <td>thời gian trôi nhanh thật đấy đã 5 năm rồi😢😢😢😢</td>\n",
       "      <td>Neutral</td>\n",
       "      <td>3.700000</td>\n",
       "    </tr>\n",
       "  </tbody>\n",
       "</table>\n",
       "</div>"
      ],
      "text/plain": [
       "                                              Comment    Label  \\\n",
       "0   chúc mừng viettel đã lên ngôi v.league 1 mùa g...  Neutral   \n",
       "1   biết là văn quyến sai nhưng mà nói đúng cầu th...  Neutral   \n",
       "3                      xin hoi tai sao ko thi dau nua  Neutral   \n",
       "4                          loại người bán dẻ đất nước  Neutral   \n",
       "5   1 thg chăn bò đi đá bóng quốc gia thì ko bán đ...  Neutral   \n",
       "6   dù đã qua cách đây 20 năm rùi,nhưng lối đá vq ...  Neutral   \n",
       "9                    có tài mà ko có đức thì cũng vất  Neutral   \n",
       "10       trăm năm việt nam mới có 1 thiên tài bóng đá  Neutral   \n",
       "11  bóng đá việt nam ko ai có thể qua được cậu bé ...  Neutral   \n",
       "12     thời gian trôi nhanh thật đấy đã 5 năm rồi😢😢😢😢  Neutral   \n",
       "\n",
       "    mean_word_length  \n",
       "0           6.642857  \n",
       "1           3.520000  \n",
       "3           2.875000  \n",
       "4           3.500000  \n",
       "5           2.666667  \n",
       "6           3.372093  \n",
       "9           2.666667  \n",
       "10          3.090909  \n",
       "11          3.266667  \n",
       "12          3.700000  "
      ]
     },
     "execution_count": 26,
     "metadata": {},
     "output_type": "execute_result"
    }
   ],
   "source": [
    "data1['mean_word_length'] = data1['Comment'].map(lambda rev: np.mean([len(word) for word in rev.split()]))\n",
    "data1.head(10)"
   ]
  },
  {
   "cell_type": "code",
   "execution_count": 27,
   "id": "e0536df0",
   "metadata": {},
   "outputs": [
    {
     "data": {
      "text/plain": [
       "159.5"
      ]
     },
     "execution_count": 27,
     "metadata": {},
     "output_type": "execute_result"
    }
   ],
   "source": [
    "from nltk import tokenize\n",
    "np.mean([len(sent) for sent in tokenize.sent_tokenize(data1['Comment'][0])])"
   ]
  },
  {
   "cell_type": "code",
   "execution_count": 28,
   "id": "fff81f49",
   "metadata": {},
   "outputs": [],
   "source": [
    "def corpus(text):\n",
    "    text_list = text.split()\n",
    "    return text_list"
   ]
  },
  {
   "cell_type": "code",
   "execution_count": 29,
   "id": "e152f23b",
   "metadata": {},
   "outputs": [
    {
     "data": {
      "text/html": [
       "<div>\n",
       "<style scoped>\n",
       "    .dataframe tbody tr th:only-of-type {\n",
       "        vertical-align: middle;\n",
       "    }\n",
       "\n",
       "    .dataframe tbody tr th {\n",
       "        vertical-align: top;\n",
       "    }\n",
       "\n",
       "    .dataframe thead th {\n",
       "        text-align: right;\n",
       "    }\n",
       "</style>\n",
       "<table border=\"1\" class=\"dataframe\">\n",
       "  <thead>\n",
       "    <tr style=\"text-align: right;\">\n",
       "      <th></th>\n",
       "      <th>Comment</th>\n",
       "      <th>Label</th>\n",
       "      <th>mean_word_length</th>\n",
       "      <th>Review_lists</th>\n",
       "    </tr>\n",
       "  </thead>\n",
       "  <tbody>\n",
       "    <tr>\n",
       "      <th>0</th>\n",
       "      <td>chúc mừng viettel đã lên ngôi v.league 1 mùa g...</td>\n",
       "      <td>Neutral</td>\n",
       "      <td>6.642857</td>\n",
       "      <td>[chúc, mừng, viettel, đã, lên, ngôi, v.league,...</td>\n",
       "    </tr>\n",
       "    <tr>\n",
       "      <th>1</th>\n",
       "      <td>biết là văn quyến sai nhưng mà nói đúng cầu th...</td>\n",
       "      <td>Neutral</td>\n",
       "      <td>3.520000</td>\n",
       "      <td>[biết, là, văn, quyến, sai, nhưng, mà, nói, đú...</td>\n",
       "    </tr>\n",
       "    <tr>\n",
       "      <th>3</th>\n",
       "      <td>xin hoi tai sao ko thi dau nua</td>\n",
       "      <td>Neutral</td>\n",
       "      <td>2.875000</td>\n",
       "      <td>[xin, hoi, tai, sao, ko, thi, dau, nua]</td>\n",
       "    </tr>\n",
       "    <tr>\n",
       "      <th>4</th>\n",
       "      <td>loại người bán dẻ đất nước</td>\n",
       "      <td>Neutral</td>\n",
       "      <td>3.500000</td>\n",
       "      <td>[loại, người, bán, dẻ, đất, nước]</td>\n",
       "    </tr>\n",
       "    <tr>\n",
       "      <th>5</th>\n",
       "      <td>1 thg chăn bò đi đá bóng quốc gia thì ko bán đ...</td>\n",
       "      <td>Neutral</td>\n",
       "      <td>2.666667</td>\n",
       "      <td>[1, thg, chăn, bò, đi, đá, bóng, quốc, gia, th...</td>\n",
       "    </tr>\n",
       "    <tr>\n",
       "      <th>6</th>\n",
       "      <td>dù đã qua cách đây 20 năm rùi,nhưng lối đá vq ...</td>\n",
       "      <td>Neutral</td>\n",
       "      <td>3.372093</td>\n",
       "      <td>[dù, đã, qua, cách, đây, 20, năm, rùi,nhưng, l...</td>\n",
       "    </tr>\n",
       "    <tr>\n",
       "      <th>9</th>\n",
       "      <td>có tài mà ko có đức thì cũng vất</td>\n",
       "      <td>Neutral</td>\n",
       "      <td>2.666667</td>\n",
       "      <td>[có, tài, mà, ko, có, đức, thì, cũng, vất]</td>\n",
       "    </tr>\n",
       "    <tr>\n",
       "      <th>10</th>\n",
       "      <td>trăm năm việt nam mới có 1 thiên tài bóng đá</td>\n",
       "      <td>Neutral</td>\n",
       "      <td>3.090909</td>\n",
       "      <td>[trăm, năm, việt, nam, mới, có, 1, thiên, tài,...</td>\n",
       "    </tr>\n",
       "    <tr>\n",
       "      <th>11</th>\n",
       "      <td>bóng đá việt nam ko ai có thể qua được cậu bé ...</td>\n",
       "      <td>Neutral</td>\n",
       "      <td>3.266667</td>\n",
       "      <td>[bóng, đá, việt, nam, ko, ai, có, thể, qua, đư...</td>\n",
       "    </tr>\n",
       "    <tr>\n",
       "      <th>12</th>\n",
       "      <td>thời gian trôi nhanh thật đấy đã 5 năm rồi😢😢😢😢</td>\n",
       "      <td>Neutral</td>\n",
       "      <td>3.700000</td>\n",
       "      <td>[thời, gian, trôi, nhanh, thật, đấy, đã, 5, nă...</td>\n",
       "    </tr>\n",
       "  </tbody>\n",
       "</table>\n",
       "</div>"
      ],
      "text/plain": [
       "                                              Comment    Label  \\\n",
       "0   chúc mừng viettel đã lên ngôi v.league 1 mùa g...  Neutral   \n",
       "1   biết là văn quyến sai nhưng mà nói đúng cầu th...  Neutral   \n",
       "3                      xin hoi tai sao ko thi dau nua  Neutral   \n",
       "4                          loại người bán dẻ đất nước  Neutral   \n",
       "5   1 thg chăn bò đi đá bóng quốc gia thì ko bán đ...  Neutral   \n",
       "6   dù đã qua cách đây 20 năm rùi,nhưng lối đá vq ...  Neutral   \n",
       "9                    có tài mà ko có đức thì cũng vất  Neutral   \n",
       "10       trăm năm việt nam mới có 1 thiên tài bóng đá  Neutral   \n",
       "11  bóng đá việt nam ko ai có thể qua được cậu bé ...  Neutral   \n",
       "12     thời gian trôi nhanh thật đấy đã 5 năm rồi😢😢😢😢  Neutral   \n",
       "\n",
       "    mean_word_length                                       Review_lists  \n",
       "0           6.642857  [chúc, mừng, viettel, đã, lên, ngôi, v.league,...  \n",
       "1           3.520000  [biết, là, văn, quyến, sai, nhưng, mà, nói, đú...  \n",
       "3           2.875000            [xin, hoi, tai, sao, ko, thi, dau, nua]  \n",
       "4           3.500000                  [loại, người, bán, dẻ, đất, nước]  \n",
       "5           2.666667  [1, thg, chăn, bò, đi, đá, bóng, quốc, gia, th...  \n",
       "6           3.372093  [dù, đã, qua, cách, đây, 20, năm, rùi,nhưng, l...  \n",
       "9           2.666667         [có, tài, mà, ko, có, đức, thì, cũng, vất]  \n",
       "10          3.090909  [trăm, năm, việt, nam, mới, có, 1, thiên, tài,...  \n",
       "11          3.266667  [bóng, đá, việt, nam, ko, ai, có, thể, qua, đư...  \n",
       "12          3.700000  [thời, gian, trôi, nhanh, thật, đấy, đã, 5, nă...  "
      ]
     },
     "execution_count": 29,
     "metadata": {},
     "output_type": "execute_result"
    }
   ],
   "source": [
    "data1['Review_lists'] = data1['Comment'].apply(corpus)\n",
    "data1.head(10)"
   ]
  },
  {
   "cell_type": "code",
   "execution_count": 30,
   "id": "edc90a6d",
   "metadata": {},
   "outputs": [],
   "source": [
    "from tqdm import trange\n",
    "from nltk.probability import FreqDist\n",
    "from collections import Counter"
   ]
  },
  {
   "cell_type": "code",
   "execution_count": 31,
   "id": "9dbaa75a",
   "metadata": {},
   "outputs": [
    {
     "name": "stderr",
     "output_type": "stream",
     "text": [
      "100%|\u001b[32m██████████████████████████████████████████████████████████████████████████████████████████████████████████\u001b[0m| 9526/9526 [00:00<00:00, 53482.05it/s]\u001b[0m\n"
     ]
    }
   ],
   "source": [
    "corpus = []\n",
    "for i in trange(data1.shape[0], ncols=150, nrows=10, colour='green', smoothing=0.8):\n",
    "    row = data1['Review_lists'].iloc[i]\n",
    "    if isinstance(row, list):  # Chỉ cộng nếu là list\n",
    "        corpus += row\n",
    "    else:\n",
    "        print(f\"Row {i} is not a list, skipped.\")\n",
    "#for i in trange(data1.shape[0], ncols=150, nrows=10, colour='green', smoothing=0.8):\n",
    "#   corpus += data1['Review_lists'][i]\n",
    "#len(corpus)"
   ]
  },
  {
   "cell_type": "code",
   "execution_count": 32,
   "id": "8c46383c",
   "metadata": {},
   "outputs": [
    {
     "data": {
      "text/plain": [
       "[('có', 4176),\n",
       " ('là', 3921),\n",
       " ('quyến', 3676),\n",
       " ('văn', 2947),\n",
       " ('thì', 2873),\n",
       " ('đá', 2372),\n",
       " ('bán', 2329),\n",
       " ('mà', 2234),\n",
       " ('bóng', 2230),\n",
       " ('cho', 2175)]"
      ]
     },
     "execution_count": 32,
     "metadata": {},
     "output_type": "execute_result"
    }
   ],
   "source": [
    "mostCommon = Counter(corpus).most_common(10)\n",
    "mostCommon"
   ]
  },
  {
   "cell_type": "code",
   "execution_count": 33,
   "id": "b2db52d4",
   "metadata": {},
   "outputs": [],
   "source": [
    "words = []\n",
    "freq = []\n",
    "for word, count in mostCommon:\n",
    "    words.append(word)\n",
    "    freq.append(count)"
   ]
  },
  {
   "cell_type": "code",
   "execution_count": 34,
   "id": "f8808020",
   "metadata": {},
   "outputs": [
    {
     "data": {
      "image/png": "[encoded data removed]",
      "text/plain": [
       "<Figure size 640x480 with 1 Axes>"
      ]
     },
     "metadata": {},
     "output_type": "display_data"
    }
   ],
   "source": [
    "# Thiết lập style nền đen, chữ trắng\n",
    "plt.style.use('dark_background')\n",
    "\n",
    "sns.barplot(x=freq, y=words,color='red')\n",
    "plt.title('Top 10 Most Frequently Occuring Words')\n",
    "plt.xlabel('Frequency', color='white')  # nhãn trục X chữ trắng (nếu có)\n",
    "plt.ylabel('Words', color='white')     # nhãn trục Y chữ trắng (nếu có)\n",
    "\n",
    "# Chỉnh màu chữ cho các ticks (nhãn trục)\n",
    "plt.xticks(color='white')\n",
    "plt.yticks(color='white')\n",
    "\n",
    "plt.show()"
   ]
  },
  {
   "cell_type": "markdown",
   "id": "388094e9",
   "metadata": {},
   "source": [
    "Most Frequently occuring N_grams\n",
    "\n",
    "What is an N-gram?\n",
    "An n-gram is sequence of n words in a text. Most words by themselves may not present the entire context. Typically adverbs such as 'most' or 'very' are used to modify verbs and adjectives. Therefore, n-grams help analyse phrases and not just words which can lead to better insights.\n",
    "\n",
    "A Bi-gram means two words in a sequence. 'Very good' or 'Too great'\n",
    "A Tri-gram means three words in a sequence. 'How was your day' would be broken down to 'How was your' and 'was your day'.\n",
    "\n",
    "For separating text into n-grams, we will use CountVectorizer from Sklearn"
   ]
  },
  {
   "cell_type": "code",
   "execution_count": 35,
   "id": "f730c6ec",
   "metadata": {},
   "outputs": [],
   "source": [
    "cv = CountVectorizer(ngram_range=(2,2))\n",
    "bigrams = cv.fit_transform(df['Comment'])"
   ]
  },
  {
   "cell_type": "code",
   "execution_count": 36,
   "id": "367ac7e8",
   "metadata": {},
   "outputs": [],
   "source": [
    "import numpy as np\n",
    "\n",
    "# Tính tổng tần suất mà không cần chuyển sang dense matrix\n",
    "count_values = bigrams.sum(axis=0).A1  # .A1 là rút gọn từ matrix -> ndarray 1D\n",
    "ngram_freq = pd.DataFrame(\n",
    "    sorted([(count_values[i], k) for k, i in cv.vocabulary_.items()], reverse=True),\n",
    "    columns=[\"frequency\", \"ngram\"]\n",
    ")"
   ]
  },
  {
   "cell_type": "code",
   "execution_count": 37,
   "id": "fdf005f8",
   "metadata": {},
   "outputs": [],
   "source": [
    "#count_values = bigrams.toarray().sum(axis=0)\n",
    "#ngram_freq = pd.DataFrame(sorted([(count_values[i], k) for k, i in cv.vocabulary_.items()], reverse = True))\n",
    "#ngram_freq.columns = [\"frequency\", \"ngram\"]"
   ]
  },
  {
   "cell_type": "code",
   "execution_count": 38,
   "id": "4e7d5710",
   "metadata": {},
   "outputs": [
    {
     "data": {
      "image/png": "[encoded data removed]",
      "text/plain": [
       "<Figure size 640x480 with 1 Axes>"
      ]
     },
     "metadata": {},
     "output_type": "display_data"
    }
   ],
   "source": [
    "sns.barplot(x=ngram_freq['frequency'][:10], y=ngram_freq['ngram'][:10])\n",
    "plt.title('Top 10 Most Frequently Occuring Bigrams')\n",
    "plt.show()"
   ]
  },
  {
   "cell_type": "code",
   "execution_count": 39,
   "id": "063a7be6",
   "metadata": {},
   "outputs": [],
   "source": [
    "cv1 = CountVectorizer(ngram_range=(3,3))\n",
    "trigrams = cv1.fit_transform(data1['Comment'])\n",
    "\n",
    "# Giải pháp tiết kiệm bộ nhớ:\n",
    "count_values = trigrams.sum(axis=0).A1  # Lấy tổng tần suất theo cột dưới dạng mảng 1 chiều\n",
    "\n",
    "ngram_freq = pd.DataFrame(\n",
    "    sorted([(count_values[i], k) for k, i in cv1.vocabulary_.items()], reverse=True),\n",
    "    columns=[\"frequency\", \"ngram\"]\n",
    ")"
   ]
  },
  {
   "cell_type": "code",
   "execution_count": 40,
   "id": "ec369c10",
   "metadata": {},
   "outputs": [],
   "source": [
    "#cv1 = CountVectorizer(ngram_range=(3,3))\n",
    "#trigrams = cv1.fit_transform(data1['Comment'])\n",
    "#count_values = trigrams.toarray().sum(axis=0)\n",
    "#ngram_freq = pd.DataFrame(sorted([(count_values[i], k) for k, i in cv1.vocabulary_.items()], reverse = True))\n",
    "#ngram_freq.columns = [\"frequency\", \"ngram\"]"
   ]
  },
  {
   "cell_type": "markdown",
   "id": "feae4a0f",
   "metadata": {},
   "source": [
    "Lỗi MemoryError vì đang cố chuyển một ma trận thưa rất lớn (9526 hàng × 63944 cột) thành ma trận đầy đủ với .toarray(), tốn tới 4.54 GB RAM – rất không cần thiết."
   ]
  },
  {
   "cell_type": "code",
   "execution_count": 41,
   "id": "b04fce0f",
   "metadata": {},
   "outputs": [
    {
     "data": {
      "image/png": "[encoded data removed]",
      "text/plain": [
       "<Figure size 640x480 with 1 Axes>"
      ]
     },
     "metadata": {},
     "output_type": "display_data"
    }
   ],
   "source": [
    "sns.barplot(x=ngram_freq['frequency'][:10], y=ngram_freq['ngram'][:10])\n",
    "plt.title('Top 10 Most Frequently Occuring Trigrams')\n",
    "plt.show()"
   ]
  },
  {
   "cell_type": "markdown",
   "id": "0bf637f6",
   "metadata": {},
   "source": [
    "Train- Test Split: Thực hiện trước khi Clean + Processing để tránh Data Leakage"
   ]
  },
  {
   "cell_type": "code",
   "execution_count": 42,
   "id": "a0f7ac9f",
   "metadata": {},
   "outputs": [],
   "source": [
    "def load_and_split(df, test_size=0.2, random_state=42):   \n",
    "    # Split into train and test sets\n",
    "    X = df['Comment'] # Các cột comment\n",
    "    y = df['Label']  # Cột label\n",
    "    \n",
    "    X_train, X_test, y_train, y_test = train_test_split(X, y, test_size=test_size, random_state=random_state)\n",
    "    \n",
    "    # Create train and test DataFrames\n",
    "    train = pd.DataFrame({'Comment': X_train, 'Label': y_train})\n",
    "    test = pd.DataFrame({'Comment': X_test, 'Label': y_test})\n",
    "    \n",
    "    return train, test, X_train, y_train, X_test, y_test\n",
    "\n",
    "# Example usage:\n",
    "train, test, X_train, y_train, X_test, y_test = load_and_split(data,test_size=0.2, random_state=42)\n"
   ]
  },
  {
   "cell_type": "code",
   "execution_count": 43,
   "id": "d2e51433",
   "metadata": {},
   "outputs": [
    {
     "data": {
      "text/plain": [
       "(7620,)"
      ]
     },
     "execution_count": 43,
     "metadata": {},
     "output_type": "execute_result"
    }
   ],
   "source": [
    "X_train.shape"
   ]
  },
  {
   "cell_type": "code",
   "execution_count": 44,
   "id": "32193743",
   "metadata": {},
   "outputs": [
    {
     "data": {
      "text/plain": [
       "(7620,)"
      ]
     },
     "execution_count": 44,
     "metadata": {},
     "output_type": "execute_result"
    }
   ],
   "source": [
    "y_train.shape"
   ]
  },
  {
   "cell_type": "code",
   "execution_count": 45,
   "id": "6de069d1",
   "metadata": {},
   "outputs": [
    {
     "data": {
      "text/plain": [
       "(1906,)"
      ]
     },
     "execution_count": 45,
     "metadata": {},
     "output_type": "execute_result"
    }
   ],
   "source": [
    "X_test.shape"
   ]
  },
  {
   "cell_type": "code",
   "execution_count": 46,
   "id": "d3bc3a8a",
   "metadata": {},
   "outputs": [
    {
     "data": {
      "text/plain": [
       "(1906,)"
      ]
     },
     "execution_count": 46,
     "metadata": {},
     "output_type": "execute_result"
    }
   ],
   "source": [
    "y_test.shape"
   ]
  },
  {
   "cell_type": "code",
   "execution_count": 47,
   "id": "1f159ddf",
   "metadata": {},
   "outputs": [
    {
     "data": {
      "text/html": [
       "<div>\n",
       "<style scoped>\n",
       "    .dataframe tbody tr th:only-of-type {\n",
       "        vertical-align: middle;\n",
       "    }\n",
       "\n",
       "    .dataframe tbody tr th {\n",
       "        vertical-align: top;\n",
       "    }\n",
       "\n",
       "    .dataframe thead th {\n",
       "        text-align: right;\n",
       "    }\n",
       "</style>\n",
       "<table border=\"1\" class=\"dataframe\">\n",
       "  <thead>\n",
       "    <tr style=\"text-align: right;\">\n",
       "      <th></th>\n",
       "      <th>Comment</th>\n",
       "      <th>Label</th>\n",
       "    </tr>\n",
       "  </thead>\n",
       "  <tbody>\n",
       "    <tr>\n",
       "      <th>1900</th>\n",
       "      <td>bán nước  đúng ngu như chó</td>\n",
       "      <td>Negative</td>\n",
       "    </tr>\n",
       "    <tr>\n",
       "      <th>3741</th>\n",
       "      <td>cũng chỉ vì nghèo khó mà ra tiếc cho anh.</td>\n",
       "      <td>Neutral</td>\n",
       "    </tr>\n",
       "    <tr>\n",
       "      <th>3016</th>\n",
       "      <td>mãi là niềm nuối tiếc &amp;quot; giá như...&amp;quot;</td>\n",
       "      <td>Neutral</td>\n",
       "    </tr>\n",
       "    <tr>\n",
       "      <th>1831</th>\n",
       "      <td>việt nam ngu như con bò , nó bán độ thì im mẹ ...</td>\n",
       "      <td>Negative</td>\n",
       "    </tr>\n",
       "    <tr>\n",
       "      <th>3849</th>\n",
       "      <td>nghệ an đá xấu chỉ có riêng quyến là hào hoa l...</td>\n",
       "      <td>Negative</td>\n",
       "    </tr>\n",
       "  </tbody>\n",
       "</table>\n",
       "</div>"
      ],
      "text/plain": [
       "                                                Comment     Label\n",
       "1900                     bán nước  đúng ngu như chó  Negative\n",
       "3741          cũng chỉ vì nghèo khó mà ra tiếc cho anh.   Neutral\n",
       "3016      mãi là niềm nuối tiếc &quot; giá như...&quot;   Neutral\n",
       "1831  việt nam ngu như con bò , nó bán độ thì im mẹ ...  Negative\n",
       "3849  nghệ an đá xấu chỉ có riêng quyến là hào hoa l...  Negative"
      ]
     },
     "execution_count": 47,
     "metadata": {},
     "output_type": "execute_result"
    }
   ],
   "source": [
    "train.head()"
   ]
  },
  {
   "cell_type": "code",
   "execution_count": 48,
   "id": "070f90ba",
   "metadata": {},
   "outputs": [
    {
     "data": {
      "text/html": [
       "<div>\n",
       "<style scoped>\n",
       "    .dataframe tbody tr th:only-of-type {\n",
       "        vertical-align: middle;\n",
       "    }\n",
       "\n",
       "    .dataframe tbody tr th {\n",
       "        vertical-align: top;\n",
       "    }\n",
       "\n",
       "    .dataframe thead th {\n",
       "        text-align: right;\n",
       "    }\n",
       "</style>\n",
       "<table border=\"1\" class=\"dataframe\">\n",
       "  <thead>\n",
       "    <tr style=\"text-align: right;\">\n",
       "      <th></th>\n",
       "      <th>Comment</th>\n",
       "      <th>Label</th>\n",
       "    </tr>\n",
       "  </thead>\n",
       "  <tbody>\n",
       "    <tr>\n",
       "      <th>73</th>\n",
       "      <td>mày làm nhục cảm người nghệ an tốt bụng</td>\n",
       "      <td>Positive</td>\n",
       "    </tr>\n",
       "    <tr>\n",
       "      <th>127</th>\n",
       "      <td>văn quyến nếu không xa ngã, có thể đã là biểu ...</td>\n",
       "      <td>Positive</td>\n",
       "    </tr>\n",
       "    <tr>\n",
       "      <th>579</th>\n",
       "      <td>mình vẫn tiếc cho bạn q ah!</td>\n",
       "      <td>Neutral</td>\n",
       "    </tr>\n",
       "    <tr>\n",
       "      <th>2164</th>\n",
       "      <td>cá nhân, đéo chuyền cho ai. ở tù rồi tiêca</td>\n",
       "      <td>Negative</td>\n",
       "    </tr>\n",
       "    <tr>\n",
       "      <th>408</th>\n",
       "      <td>văn quyến mà gọi là thiên tài,bậy rồi</td>\n",
       "      <td>Neutral</td>\n",
       "    </tr>\n",
       "  </tbody>\n",
       "</table>\n",
       "</div>"
      ],
      "text/plain": [
       "                                                Comment     Label\n",
       "73              mày làm nhục cảm người nghệ an tốt bụng  Positive\n",
       "127   văn quyến nếu không xa ngã, có thể đã là biểu ...  Positive\n",
       "579                         mình vẫn tiếc cho bạn q ah!   Neutral\n",
       "2164         cá nhân, đéo chuyền cho ai. ở tù rồi tiêca  Negative\n",
       "408               văn quyến mà gọi là thiên tài,bậy rồi   Neutral"
      ]
     },
     "execution_count": 48,
     "metadata": {},
     "output_type": "execute_result"
    }
   ],
   "source": [
    "test.head()"
   ]
  },
  {
   "cell_type": "markdown",
   "id": "5f427911",
   "metadata": {},
   "source": [
    "Clean data:\n",
    "* Xóa các comment chỉ có biểu tượng\n",
    "* Chuyển hết các số thành từ: ví dụ 2-> hai (do dữ liệu bình luận liên quan đến bóng đá có số: dùng để mỉa mai/khen)\n",
    "* Chuyển hết các từ về dạng chữ thường\n",
    "* Xóa dấu câu và stop words: không mang nhiều giá trị\n",
    "* Xóa link đính kèm (nhiều người gán link Shopee để lừa người khác) hay thẻ HTML (do quá trình lấy dữ liệu)"
   ]
  },
  {
   "cell_type": "code",
   "execution_count": 49,
   "id": "34997ebe",
   "metadata": {},
   "outputs": [],
   "source": [
    "vietnamese_stopwords = [\n",
    "    'và', 'là', 'của', 'có', 'trong', 'một', 'những', 'được', 'với', 'cho', 'khi', \n",
    "    'này', 'ở', 'đã', 'các', 'đó', 'theo', 'ra', 'từ', 'vì', 'nên', 'sẽ', 'đang', \n",
    "    'như', 'đến', 'thì', 'bị', 'rằng', 'mà', 'làm', 'hay', 'nào', 'ta', 'tôi', 'anh', 'chị', \n",
    "    'em', 'chúng', 'tôi', 'bạn', 'họ', 'gì', 'đâu', 'ai', 'đấy'\n",
    "    # 👉 bạn có thể mở rộng thêm nếu cần\n",
    "]"
   ]
  },
  {
   "cell_type": "code",
   "execution_count": 50,
   "id": "2255ed52",
   "metadata": {},
   "outputs": [],
   "source": [
    "def clean_single_text(text):\n",
    "    # Kiểm tra nếu text không phải chuỗi hoặc là NaN\n",
    "    if not isinstance(text, str):\n",
    "        return ''\n",
    "\n",
    "    # Nếu không chứa ít nhất 1 ký tự chữ hoặc số => loại bỏ\n",
    "    if not re.search(r'[a-zA-Z0-9À-ỹà-ỹ]', text):  # hỗ trợ cả chữ tiếng Việt\n",
    "        return ''\n",
    "\n",
    "    text = text.strip()\n",
    "\n",
    "    # ===== ƯU TIÊN xử lý nếu comment BẮT ĐẦU bằng số hoặc emoji =====\n",
    "    if re.match(r'^\\d+', text):  # bắt đầu bằng số\n",
    "        # chuyển số đầu tiên sang chữ\n",
    "        text = re.sub(r'^\\d+', lambda x: num2words(int(x.group()), lang='vi'), text)\n",
    "\n",
    "    elif emoji.is_emoji(text[0]):\n",
    "        # Xoá emoji ở đầu nếu có\n",
    "        text = emoji.replace_emoji(text, replace='') #only_first=True)\n",
    "\n",
    "    # ================== CÁC BƯỚC LÀM SẠCH CHUNG ==================\n",
    "\n",
    "    # Chuyển tất cả thành chữ thường\n",
    "    text = text.lower()\n",
    "\n",
    "    # Loại bỏ HTML/CSS\n",
    "    text = BeautifulSoup(text, \"html.parser\").get_text()\n",
    "\n",
    "    # Xóa URL\n",
    "    text = re.sub(r'http\\S+|www\\S+|https\\S+', '', text)\n",
    "\n",
    "    # Loại bỏ emoji còn lại\n",
    "    text = emoji.replace_emoji(text, replace='')\n",
    "\n",
    "    # Chuyển tất cả số còn lại sang chữ \n",
    "    # 2 thằng cầu thủ -> hai ...\n",
    "    text = re.sub(r'\\d+', lambda x: num2words(int(x.group()), lang='vi'), text)\n",
    "\n",
    "    # Xoá dấu câu\n",
    "    text = text.translate(str.maketrans('', '', string.punctuation))\n",
    "\n",
    "    # Tách từ và loại bỏ stopwords\n",
    "    # là, như,...\n",
    "    tokens = word_tokenize(text)\n",
    "    filtered_words = [w for w in tokens if w not in vietnamese_stopwords]\n",
    "\n",
    "    # Nếu sau khi xử lý mà còn rỗng thì bỏ\n",
    "    if not filtered_words:\n",
    "        return ''\n",
    "\n",
    "    return ' '.join(filtered_words)\n",
    "\n",
    "def clean_text(data, column=None):\n",
    "    if isinstance(data, pd.Series):\n",
    "        return data.apply(clean_single_text)\n",
    "    elif isinstance(data, pd.DataFrame):\n",
    "        if column is None:\n",
    "            raise ValueError(\"Cần chỉ định tên cột để xử lý trong DataFrame.\")\n",
    "        return data[column].apply(clean_single_text)\n",
    "    else:\n",
    "        raise TypeError(\"Input phải là pandas Series hoặc DataFrame.\")"
   ]
  },
  {
   "cell_type": "code",
   "execution_count": 51,
   "id": "4367fd09",
   "metadata": {},
   "outputs": [
    {
     "name": "stderr",
     "output_type": "stream",
     "text": [
      "C:\\Users\\admin\\AppData\\Local\\Temp\\ipykernel_4068\\1424402601.py:27: MarkupResemblesLocatorWarning: The input looks more like a filename than markup. You may want to open this file and pass the filehandle into Beautiful Soup.\n",
      "  text = BeautifulSoup(text, \"html.parser\").get_text()\n",
      "C:\\Users\\admin\\AppData\\Local\\Temp\\ipykernel_4068\\1424402601.py:27: MarkupResemblesLocatorWarning: The input looks more like a URL than markup. You may want to use an HTTP client like requests to get the document behind the URL, and feed that document to Beautiful Soup.\n",
      "  text = BeautifulSoup(text, \"html.parser\").get_text()\n"
     ]
    }
   ],
   "source": [
    "cleaned_X_train = clean_text(X_train)"
   ]
  },
  {
   "cell_type": "code",
   "execution_count": 52,
   "id": "ed5845ec",
   "metadata": {},
   "outputs": [
    {
     "data": {
      "text/plain": [
       "(7620,)"
      ]
     },
     "execution_count": 52,
     "metadata": {},
     "output_type": "execute_result"
    }
   ],
   "source": [
    "cleaned_X_train.shape"
   ]
  },
  {
   "cell_type": "code",
   "execution_count": 53,
   "id": "420decbf",
   "metadata": {},
   "outputs": [
    {
     "data": {
      "text/plain": [
       "(7620,)"
      ]
     },
     "execution_count": 53,
     "metadata": {},
     "output_type": "execute_result"
    }
   ],
   "source": [
    "y_train.shape"
   ]
  },
  {
   "cell_type": "code",
   "execution_count": 54,
   "id": "3613db9b",
   "metadata": {},
   "outputs": [],
   "source": [
    "nan_indices = cleaned_X_train[cleaned_X_train.isnull()].index\n",
    "y_train.drop(nan_indices, inplace = True)"
   ]
  },
  {
   "cell_type": "code",
   "execution_count": 55,
   "id": "28b70217",
   "metadata": {},
   "outputs": [
    {
     "data": {
      "text/plain": [
       "(7620,)"
      ]
     },
     "execution_count": 55,
     "metadata": {},
     "output_type": "execute_result"
    }
   ],
   "source": [
    "y_train.shape"
   ]
  },
  {
   "cell_type": "code",
   "execution_count": 56,
   "id": "be0abcc8",
   "metadata": {},
   "outputs": [
    {
     "data": {
      "text/plain": [
       "(7620,)"
      ]
     },
     "execution_count": 56,
     "metadata": {},
     "output_type": "execute_result"
    }
   ],
   "source": [
    "cleaned_X_train.shape"
   ]
  },
  {
   "cell_type": "code",
   "execution_count": null,
   "id": "4a1937ff",
   "metadata": {},
   "outputs": [],
   "source": [
    "cleaned_X_train.dropna(inplace = True)"
   ]
  },
  {
   "cell_type": "code",
   "execution_count": 57,
   "id": "c329762a",
   "metadata": {},
   "outputs": [
    {
     "name": "stderr",
     "output_type": "stream",
     "text": [
      "C:\\Users\\admin\\AppData\\Local\\Temp\\ipykernel_4068\\1424402601.py:27: MarkupResemblesLocatorWarning: The input looks more like a filename than markup. You may want to open this file and pass the filehandle into Beautiful Soup.\n",
      "  text = BeautifulSoup(text, \"html.parser\").get_text()\n"
     ]
    }
   ],
   "source": [
    "cleaned_x_test = clean_text(X_test)"
   ]
  },
  {
   "cell_type": "code",
   "execution_count": 58,
   "id": "eb4dfed9",
   "metadata": {},
   "outputs": [
    {
     "data": {
      "text/plain": [
       "0"
      ]
     },
     "execution_count": 58,
     "metadata": {},
     "output_type": "execute_result"
    }
   ],
   "source": [
    "cleaned_x_test.isna().sum()"
   ]
  },
  {
   "cell_type": "code",
   "execution_count": 59,
   "id": "228ba48b",
   "metadata": {},
   "outputs": [
    {
     "data": {
      "text/plain": [
       "0"
      ]
     },
     "execution_count": 59,
     "metadata": {},
     "output_type": "execute_result"
    }
   ],
   "source": [
    "cleaned_X_train.isna().sum()"
   ]
  },
  {
   "cell_type": "code",
   "execution_count": 60,
   "id": "eb9b2dee",
   "metadata": {},
   "outputs": [
    {
     "data": {
      "text/plain": [
       "0"
      ]
     },
     "execution_count": 60,
     "metadata": {},
     "output_type": "execute_result"
    }
   ],
   "source": [
    "y_test.isna().sum()"
   ]
  },
  {
   "cell_type": "code",
   "execution_count": 61,
   "id": "d306449f",
   "metadata": {},
   "outputs": [
    {
     "data": {
      "text/plain": [
       "0"
      ]
     },
     "execution_count": 61,
     "metadata": {},
     "output_type": "execute_result"
    }
   ],
   "source": [
    "y_train.isna().sum()"
   ]
  },
  {
   "cell_type": "markdown",
   "id": "247412a9",
   "metadata": {},
   "source": [
    "Tokenization & Lemmatization"
   ]
  },
  {
   "cell_type": "code",
   "execution_count": 62,
   "id": "c971fdd9",
   "metadata": {},
   "outputs": [],
   "source": [
    "def tokenize_and_lemmatize_single(text):\n",
    "    if not isinstance(text, str):\n",
    "        return None\n",
    "    lemmatizer = WordNetLemmatizer()\n",
    "    tokens = word_tokenize(text)\n",
    "    lemmatized = [lemmatizer.lemmatize(word) for word in tokens]\n",
    "    return ' '.join(lemmatized)\n",
    "\n",
    "def tokenize_and_lemmatize(data, column=None, new_column=None):\n",
    "    if isinstance(data, pd.Series):\n",
    "        return data.apply(tokenize_and_lemmatize_single)\n",
    "    elif isinstance(data, pd.DataFrame):\n",
    "        if column is None:\n",
    "            raise ValueError(\"Cần chỉ định tên cột văn bản để xử lý.\")\n",
    "        result = data[column].apply(tokenize_and_lemmatize_single)\n",
    "        if new_column:\n",
    "            data[new_column] = result\n",
    "            return data\n",
    "        else:\n",
    "            return result\n",
    "    else:\n",
    "        raise TypeError(\"Input phải là pandas Series hoặc DataFrame.\")"
   ]
  },
  {
   "cell_type": "code",
   "execution_count": 63,
   "id": "af250026",
   "metadata": {},
   "outputs": [],
   "source": [
    "token_X_train = tokenize_and_lemmatize(cleaned_X_train)\n",
    "token_X_test = tokenize_and_lemmatize(cleaned_x_test)"
   ]
  },
  {
   "cell_type": "code",
   "execution_count": 64,
   "id": "af7e81df",
   "metadata": {},
   "outputs": [
    {
     "data": {
      "text/plain": [
       "(7620,)"
      ]
     },
     "execution_count": 64,
     "metadata": {},
     "output_type": "execute_result"
    }
   ],
   "source": [
    "token_X_train.shape"
   ]
  },
  {
   "cell_type": "code",
   "execution_count": 66,
   "id": "5dc10996",
   "metadata": {},
   "outputs": [
    {
     "data": {
      "text/plain": [
       "(7620,)"
      ]
     },
     "execution_count": 66,
     "metadata": {},
     "output_type": "execute_result"
    }
   ],
   "source": [
    "y_train.shape"
   ]
  },
  {
   "cell_type": "code",
   "execution_count": 67,
   "id": "287ef9a4",
   "metadata": {},
   "outputs": [
    {
     "data": {
      "text/plain": [
       "(1906,)"
      ]
     },
     "execution_count": 67,
     "metadata": {},
     "output_type": "execute_result"
    }
   ],
   "source": [
    "token_X_test.shape"
   ]
  },
  {
   "cell_type": "code",
   "execution_count": 68,
   "id": "e41aa72e",
   "metadata": {},
   "outputs": [
    {
     "data": {
      "text/plain": [
       "(1906,)"
      ]
     },
     "execution_count": 68,
     "metadata": {},
     "output_type": "execute_result"
    }
   ],
   "source": [
    "y_test.shape"
   ]
  },
  {
   "cell_type": "markdown",
   "id": "19fdf21c",
   "metadata": {},
   "source": [
    "Vectorization"
   ]
  },
  {
   "cell_type": "code",
   "execution_count": 69,
   "id": "b23e6c2b",
   "metadata": {},
   "outputs": [],
   "source": [
    "def vectorize_text(train_df, test_df, method='tfidf'):\n",
    "    \"\"\"\n",
    "    Vectorizes all text columns in train and test DataFrames by concatenating all column values per row.\n",
    "\n",
    "    Parameters:\n",
    "        train_df (DataFrame): Training DataFrame with all text columns.\n",
    "        test_df (DataFrame): Testing DataFrame with all text columns.\n",
    "        method (str): 'tfidf' (default) or 'bow'\n",
    "\n",
    "    Returns:\n",
    "        X_train (sparse matrix), X_test (sparse matrix), vectorizer (fitted vectorizer)\n",
    "    \"\"\"\n",
    "\n",
    "    # Initialize vectorizer\n",
    "    vectorizer = CountVectorizer() if method == 'bow' else TfidfVectorizer()\n",
    "\n",
    "    # Fit on train and transform both\n",
    "    X_train = vectorizer.fit_transform(train_df)\n",
    "    X_test = vectorizer.transform(test_df)\n",
    "\n",
    "    return X_train, X_test, vectorizer"
   ]
  },
  {
   "cell_type": "code",
   "execution_count": 70,
   "id": "8b8590e8",
   "metadata": {},
   "outputs": [],
   "source": [
    "vectorized_X_train, vectorize_X_test, vectorizer = vectorize_text(token_X_train, token_X_test)"
   ]
  },
  {
   "cell_type": "code",
   "execution_count": 71,
   "id": "c436c0f5",
   "metadata": {},
   "outputs": [
    {
     "data": {
      "text/plain": [
       "(7620, 4269)"
      ]
     },
     "execution_count": 71,
     "metadata": {},
     "output_type": "execute_result"
    }
   ],
   "source": [
    "vectorized_X_train.shape"
   ]
  },
  {
   "cell_type": "code",
   "execution_count": 72,
   "id": "74f81b19",
   "metadata": {},
   "outputs": [
    {
     "data": {
      "text/plain": [
       "(7620,)"
      ]
     },
     "execution_count": 72,
     "metadata": {},
     "output_type": "execute_result"
    }
   ],
   "source": [
    "y_train.shape"
   ]
  },
  {
   "cell_type": "markdown",
   "id": "9f85f05f",
   "metadata": {},
   "source": [
    "Machine Learning model"
   ]
  },
  {
   "cell_type": "code",
   "execution_count": 73,
   "id": "5dc67069",
   "metadata": {},
   "outputs": [],
   "source": [
    "def train_and_evaluate_models(X_train, y_train, X_test, y_test):\n",
    "    models = {\n",
    "        \"Logistic Regression\": LogisticRegression(max_iter=1000),\n",
    "        \"Naive Bayes\": MultinomialNB(),\n",
    "        \"SVM\": SVC(),\n",
    "        \"KNN\": KNeighborsClassifier(),\n",
    "        \"Decision Tree\": DecisionTreeClassifier(),\n",
    "        \"Random Forest\": RandomForestClassifier()\n",
    "        # \"Maximum Entropy\" trùng với Logistic Regression\n",
    "    }\n",
    "\n",
    "    results = {}\n",
    "\n",
    "    for name, model in models.items():\n",
    "        print(f\"\\n=== Training {name} ===\")\n",
    "        model.fit(X_train, y_train)\n",
    "        y_pred = model.predict(X_test)\n",
    "\n",
    "        # Lưu kết quả\n",
    "        results[name] = {\n",
    "            'model': model,\n",
    "            'y_pred': y_pred,\n",
    "            'accuracy': accuracy_score(y_test, y_pred),\n",
    "            'report': classification_report(y_test, y_pred, output_dict=True),\n",
    "            'confusion_matrix': confusion_matrix(y_test, y_pred)\n",
    "        }\n",
    "\n",
    "        # In kết quả\n",
    "        print(f\"Accuracy: {results[name]['accuracy']:.4f}\")\n",
    "        print(\"Classification Report:\")\n",
    "        print(classification_report(y_test, y_pred))\n",
    "        print(\"Confusion Matrix:\")\n",
    "        print(confusion_matrix(y_test, y_pred))\n",
    "\n",
    "    return results"
   ]
  },
  {
   "cell_type": "code",
   "execution_count": 74,
   "id": "e2e681b6",
   "metadata": {},
   "outputs": [
    {
     "name": "stdout",
     "output_type": "stream",
     "text": [
      "\n",
      "=== Training Logistic Regression ===\n",
      "Accuracy: 0.9339\n",
      "Classification Report:\n",
      "              precision    recall  f1-score   support\n",
      "\n",
      "    Negative       0.98      1.00      0.99       639\n",
      "     Neutral       0.95      0.86      0.90       653\n",
      "    Positive       0.88      0.94      0.91       614\n",
      "\n",
      "    accuracy                           0.93      1906\n",
      "   macro avg       0.93      0.93      0.93      1906\n",
      "weighted avg       0.94      0.93      0.93      1906\n",
      "\n",
      "Confusion Matrix:\n",
      "[[639   0   0]\n",
      " [ 11 563  79]\n",
      " [  5  31 578]]\n",
      "\n",
      "=== Training Naive Bayes ===\n",
      "Accuracy: 0.7970\n",
      "Classification Report:\n",
      "              precision    recall  f1-score   support\n",
      "\n",
      "    Negative       0.84      0.98      0.90       639\n",
      "     Neutral       0.95      0.50      0.66       653\n",
      "    Positive       0.69      0.92      0.79       614\n",
      "\n",
      "    accuracy                           0.80      1906\n",
      "   macro avg       0.83      0.80      0.78      1906\n",
      "weighted avg       0.83      0.80      0.78      1906\n",
      "\n",
      "Confusion Matrix:\n",
      "[[628   0  11]\n",
      " [ 88 328 237]\n",
      " [ 35  16 563]]\n",
      "\n",
      "=== Training SVM ===\n",
      "Accuracy: 0.9801\n",
      "Classification Report:\n",
      "              precision    recall  f1-score   support\n",
      "\n",
      "    Negative       1.00      1.00      1.00       639\n",
      "     Neutral       0.98      0.96      0.97       653\n",
      "    Positive       0.96      0.98      0.97       614\n",
      "\n",
      "    accuracy                           0.98      1906\n",
      "   macro avg       0.98      0.98      0.98      1906\n",
      "weighted avg       0.98      0.98      0.98      1906\n",
      "\n",
      "Confusion Matrix:\n",
      "[[639   0   0]\n",
      " [  0 628  25]\n",
      " [  0  13 601]]\n",
      "\n",
      "=== Training KNN ===\n",
      "Accuracy: 0.7623\n",
      "Classification Report:\n",
      "              precision    recall  f1-score   support\n",
      "\n",
      "    Negative       0.99      1.00      0.99       639\n",
      "     Neutral       0.92      0.34      0.49       653\n",
      "    Positive       0.58      0.97      0.73       614\n",
      "\n",
      "    accuracy                           0.76      1906\n",
      "   macro avg       0.83      0.77      0.74      1906\n",
      "weighted avg       0.83      0.76      0.74      1906\n",
      "\n",
      "Confusion Matrix:\n",
      "[[639   0   0]\n",
      " [  8 219 426]\n",
      " [  1  18 595]]\n",
      "\n",
      "=== Training Decision Tree ===\n",
      "Accuracy: 0.9323\n",
      "Classification Report:\n",
      "              precision    recall  f1-score   support\n",
      "\n",
      "    Negative       0.98      1.00      0.99       639\n",
      "     Neutral       0.99      0.81      0.89       653\n",
      "    Positive       0.84      0.99      0.91       614\n",
      "\n",
      "    accuracy                           0.93      1906\n",
      "   macro avg       0.94      0.93      0.93      1906\n",
      "weighted avg       0.94      0.93      0.93      1906\n",
      "\n",
      "Confusion Matrix:\n",
      "[[639   0   0]\n",
      " [ 11 529 113]\n",
      " [  2   3 609]]\n",
      "\n",
      "=== Training Random Forest ===\n",
      "Accuracy: 0.9780\n",
      "Classification Report:\n",
      "              precision    recall  f1-score   support\n",
      "\n",
      "    Negative       1.00      1.00      1.00       639\n",
      "     Neutral       0.99      0.94      0.97       653\n",
      "    Positive       0.95      0.99      0.97       614\n",
      "\n",
      "    accuracy                           0.98      1906\n",
      "   macro avg       0.98      0.98      0.98      1906\n",
      "weighted avg       0.98      0.98      0.98      1906\n",
      "\n",
      "Confusion Matrix:\n",
      "[[639   0   0]\n",
      " [  1 617  35]\n",
      " [  0   6 608]]\n"
     ]
    }
   ],
   "source": [
    "result = train_and_evaluate_models(vectorized_X_train, y_train, vectorize_X_test, y_test)"
   ]
  },
  {
   "cell_type": "markdown",
   "id": "d9ec6aca",
   "metadata": {},
   "source": [
    "Bảng so sánh các kết quả"
   ]
  },
  {
   "cell_type": "code",
   "execution_count": 75,
   "id": "88e22c26",
   "metadata": {},
   "outputs": [],
   "source": [
    "def plot_model_comparison_table(results_dict):\n",
    "    \"\"\"\n",
    "    Tạo bảng so sánh các metric (Accuracy, Precision, Recall, F1-score) giữa các mô hình.\n",
    "    \n",
    "    Parameters:\n",
    "        results_dict: dict - Kết quả trả về từ hàm train_and_evaluate_models()\n",
    "    \"\"\"\n",
    "    rows = []\n",
    "    for model_name, res in results_dict.items():\n",
    "        report = res['report']\n",
    "        accuracy = res['accuracy']\n",
    "        precision = report['weighted avg']['precision']\n",
    "        recall = report['weighted avg']['recall']\n",
    "        f1 = report['weighted avg']['f1-score']\n",
    "\n",
    "        rows.append({\n",
    "            'Model': model_name,\n",
    "            'Accuracy': accuracy,\n",
    "            'Precision': precision,\n",
    "            'Recall': recall,\n",
    "            'F1-score': f1\n",
    "        })\n",
    "\n",
    "    df = pd.DataFrame(rows)\n",
    "    df = df.sort_values(by=\"F1-score\", ascending=False)\n",
    "\n",
    "    print(\"\\n=== Bảng so sánh hiệu suất các mô hình ===\")\n",
    "    print(df.to_string(index=False))\n",
    "\n",
    "    # Vẽ biểu đồ cột nếu muốn\n",
    "    df.plot(x='Model', y=['Accuracy', 'Precision', 'Recall', 'F1-score'], kind='bar', figsize=(12,6))\n",
    "    plt.title('So sánh các mô hình ML')\n",
    "    plt.ylabel('Score')\n",
    "    plt.ylim(0, 1)\n",
    "    plt.xticks(rotation=45)\n",
    "    plt.grid(True)\n",
    "    plt.tight_layout()\n",
    "    plt.show()\n"
   ]
  },
  {
   "cell_type": "code",
   "execution_count": 76,
   "id": "0f636e2d",
   "metadata": {},
   "outputs": [
    {
     "name": "stdout",
     "output_type": "stream",
     "text": [
      "\n",
      "=== Bảng so sánh hiệu suất các mô hình ===\n",
      "              Model  Accuracy  Precision   Recall  F1-score\n",
      "                SVM  0.980063   0.980187 0.980063  0.980067\n",
      "      Random Forest  0.977964   0.978642 0.977964  0.977954\n",
      "Logistic Regression  0.933893   0.935195 0.933893  0.933464\n",
      "      Decision Tree  0.932319   0.940965 0.932319  0.931454\n",
      "        Naive Bayes  0.796957   0.830647 0.796957  0.782908\n",
      "                KNN  0.762329   0.834914 0.762329  0.735982\n"
     ]
    },
    {
     "data": {
      "image/png": "[encoded data removed]",
      "text/plain": [
       "<Figure size 1200x600 with 1 Axes>"
      ]
     },
     "metadata": {},
     "output_type": "display_data"
    }
   ],
   "source": [
    "plot_model_comparison_table(result)"
   ]
  },
  {
   "cell_type": "markdown",
   "id": "5bac77d5",
   "metadata": {},
   "source": [
    "Ban đầu khi thử nghiệm trên tập dữ liệu nhỏ các mô hình có kết quả tương đối tệ, đặc biệt là SVM. Tuy nhiên khi dữ liệu thực tế lớn thì gió đổi chiều và SVM trở nên hiệu quả hơn. Thứ tự các mô hình không thay đổi. \n",
    "\n",
    "SVM và Random Forest là những mô hình phù hợp cho bài toán với khả năng tổng quát hóa tốt.\n",
    "Logistic Regression và Decision Tree là những mô hình đơn giản, triển khai với tốc độ nhanh và phù hợp với dữ liệu tuyến tính như dạng vector của text.\\\n",
    "\n",
    "KNN không phù hợp"
   ]
  },
  {
   "cell_type": "markdown",
   "id": "565b4736",
   "metadata": {},
   "source": [
    "Sentiment Analysis by NLTK"
   ]
  },
  {
   "cell_type": "code",
   "execution_count": 102,
   "id": "86327bb5",
   "metadata": {},
   "outputs": [
    {
     "name": "stderr",
     "output_type": "stream",
     "text": [
      "[nltk_data] Downloading package vader_lexicon to\n",
      "[nltk_data]     C:\\Users\\admin\\AppData\\Roaming\\nltk_data...\n",
      "[nltk_data]   Package vader_lexicon is already up-to-date!\n"
     ]
    }
   ],
   "source": [
    "# Ensure that the VADER lexicon is downloaded\n",
    "nltk.download('vader_lexicon')\n",
    "\n",
    "# Initialize the sentiment intensity analyzer\n",
    "sia = SentimentIntensityAnalyzer()"
   ]
  },
  {
   "cell_type": "code",
   "execution_count": 103,
   "id": "6530e66a",
   "metadata": {},
   "outputs": [],
   "source": [
    "# Function to analyze sentiment of the comments\n",
    "def analyze_sentiment(text):\n",
    "    sentiment_score = sia.polarity_scores(text)\n",
    "    compound_score = sentiment_score['compound']\n",
    "    \n",
    "    if compound_score >= 0.05:\n",
    "        sentiment = 'Positive'\n",
    "    elif compound_score <= -0.05:\n",
    "        sentiment = 'Negative'\n",
    "    else:\n",
    "        sentiment = 'Neutral'\n",
    "    \n",
    "    return sentiment, compound_score"
   ]
  },
  {
   "cell_type": "code",
   "execution_count": 104,
   "id": "42b1b1ed",
   "metadata": {},
   "outputs": [],
   "source": [
    "def get_comments_1(video_id):\n",
    "    comments = []\n",
    "    \n",
    "    # Make an API request to fetch comments\n",
    "    request = youtube.commentThreads().list(\n",
    "        part='snippet',\n",
    "        videoId=video_id,\n",
    "        textFormat='plainText'\n",
    "    )\n",
    "    \n",
    "    while request:\n",
    "        response = request.execute()\n",
    "\n",
    "        # Loop through the comment threads and extract the comment text\n",
    "        for item in response['items']:\n",
    "            comment = item['snippet']['topLevelComment']['snippet']['textDisplay']\n",
    "            comments.append(comment)\n",
    "\n",
    "        # Get the next page of comments (if any)\n",
    "        request = youtube.commentThreads().list_next(request, response)\n",
    "    \n",
    "    return comments"
   ]
  },
  {
   "cell_type": "code",
   "execution_count": 105,
   "id": "d6e4ec72",
   "metadata": {},
   "outputs": [],
   "source": [
    "# Function to scrape comments, perform sentiment analysis, and write results to CSV\n",
    "def scrape_and_analyze():\n",
    "    # Get comments from the YouTube video\n",
    "    comments = get_comments_1(video_id)\n",
    "\n",
    "    # Write comments to a text file\n",
    "    with open('comments.txt', 'w', encoding='utf-8') as file:\n",
    "        for index, comment in enumerate(comments, 1):\n",
    "            file.write(f\"{index}. {comment}\\n\")\n",
    "\n",
    "    # Perform sentiment analysis on all the comments\n",
    "    all_comments = ' '.join(comment.strip() for comment in comments)\n",
    "    overall_sentiment, sentiment_score = analyze_sentiment(all_comments)\n",
    "\n",
    "    # Get current timestamp\n",
    "    timestamp = datetime.now().strftime('%Y-%m-%d %H:%M:%S')\n",
    "\n",
    "    # Define the CSV file and column names\n",
    "    csv_file = 'comments_analysis.csv'\n",
    "    fieldnames = ['Timestamp', 'Comment Count', 'Sentiment Type', 'Sentiment Score', 'Video Type']\n",
    "\n",
    "    # Open the CSV file to write data\n",
    "    with open(csv_file, 'a', newline='', encoding='utf-8') as csvfile:\n",
    "        writer = csv.DictWriter(csvfile, fieldnames=fieldnames)\n",
    "\n",
    "        # If the file is empty, write the header (column names)\n",
    "        if csvfile.tell() == 0:\n",
    "            writer.writeheader()\n",
    "\n",
    "        # Write the timestamp, total comments fetched, sentiment type, and score\n",
    "        writer.writerow({\n",
    "            'Timestamp': timestamp, \n",
    "            'Comment Count': len(comments),\n",
    "            'Sentiment Type': overall_sentiment, \n",
    "            'Sentiment Score': sentiment_score,\n",
    "            'Video Type': overall_sentiment\n",
    "        })\n",
    "\n",
    "    # Output the result\n",
    "    print(f\"Time: {timestamp} | Sentiment: {overall_sentiment} | Sentiment score: {sentiment_score}\")\n",
    "\n",
    "    return timestamp, len(comments), overall_sentiment"
   ]
  },
  {
   "cell_type": "code",
   "execution_count": null,
   "id": "9e205917",
   "metadata": {},
   "outputs": [
    {
     "name": "stdout",
     "output_type": "stream",
     "text": [
      "Time: 2025-05-06 00:29:24 | Sentiment: Negative | Sentiment score: -0.9998\n",
      "Time: 2025-05-06 00:29:56 | Sentiment: Negative | Sentiment score: -0.9998\n"
     ]
    }
   ],
   "source": [
    "# Run the scraper once and then repeat it every 15 minutes\n",
    "while True:\n",
    "    timestamp, comment_count, sentiment = scrape_and_analyze()  # Perform scraping and analysis\n",
    "    #time.sleep(900)  # Sleep for 15 minutes (900 seconds)"
   ]
  },
  {
   "cell_type": "markdown",
   "id": "5f39f20a",
   "metadata": {},
   "source": [
    "LLM"
   ]
  },
  {
   "cell_type": "code",
   "execution_count": 79,
   "id": "28bc8b48",
   "metadata": {},
   "outputs": [],
   "source": [
    "import google.generativeai as genai"
   ]
  },
  {
   "cell_type": "code",
   "execution_count": 80,
   "id": "6b579fb7",
   "metadata": {},
   "outputs": [],
   "source": [
    "from tqdm import tqdm"
   ]
  },
  {
   "cell_type": "code",
   "execution_count": 81,
   "id": "207f5117",
   "metadata": {},
   "outputs": [],
   "source": [
    "genai.configure(api_key=os.getenv(\"GOOGLE_API_KEY\"))\n",
    "generation_config = genai.types.GenerationConfig(temperature=0.0)"
   ]
  },
  {
   "cell_type": "code",
   "execution_count": null,
   "id": "265d4e73",
   "metadata": {},
   "outputs": [],
   "source": [
    "# Load mô hình: mô hình free\n",
    "model = genai.GenerativeModel(model_name=\"gemini-1.5-flash\")"
   ]
  },
  {
   "cell_type": "code",
   "execution_count": 83,
   "id": "ee500c90",
   "metadata": {},
   "outputs": [],
   "source": [
    "# Hàm phân tích sentiment\n",
    "def analyze_sentiment(text):\n",
    "    if pd.isna(text) or not text.strip():\n",
    "        return \"neutral\"  # hoặc return None nếu muốn bỏ qua\n",
    "    prompt = f\"\"\"\n",
    "    Your role: Sentiment analyzer\n",
    "    Task: Answer the one of sentiment in the sentiment list ([\"Neutral\", \"Negative\", \"Positive\"]) of the given message. Only give me the answer in list.\n",
    "    Message: {text}\n",
    "    \"\"\"\n",
    "    try:\n",
    "        response = model.generate_content(prompt, generation_config=generation_config)\n",
    "        return response.text.strip().lower()\n",
    "    except Exception as e:\n",
    "        print(f\"Lỗi với message: {text[:30]}... => {e}\")\n",
    "        return \"neutral\"  # fallback nếu lỗi"
   ]
  },
  {
   "cell_type": "code",
   "execution_count": 85,
   "id": "3ab74dd4",
   "metadata": {},
   "outputs": [],
   "source": [
    "def evaluate_llm_predictions(y_true, y_pred):\n",
    "    \"\"\"\n",
    "    Evaluate the predictions made by LLM (e.g., Gemini) for sentiment classification.\n",
    "\n",
    "    Args:\n",
    "        y_true (list or Series): Ground truth sentiment labels.\n",
    "        y_pred (list): Predicted sentiment labels from LLM.\n",
    "\n",
    "    Prints:\n",
    "        Accuracy, classification report, confusion matrix.\n",
    "        \n",
    "    Returns:\n",
    "        metrics_df (DataFrame): Summary of precision, recall, f1-score per label.\n",
    "    \"\"\"\n",
    "    print(\"=== Accuracy ===\")\n",
    "    acc = accuracy_score(y_true, y_pred)\n",
    "    print(f\"Accuracy: {acc:.4f}\")\n",
    "\n",
    "    print(\"\\n=== Classification Report ===\")\n",
    "    report = classification_report(y_true, y_pred, output_dict=True)\n",
    "    print(classification_report(y_true, y_pred))\n",
    "\n",
    "    print(\"=== Confusion Matrix ===\")\n",
    "    cm = confusion_matrix(y_true, y_pred, labels=[\"positive\", \"neutral\", \"negative\"])\n",
    "    cm_df = pd.DataFrame(cm, index=[\"True_Pos\", \"True_Neu\", \"True_Neg\"], \n",
    "                              columns=[\"Pred_Pos\", \"Pred_Neu\", \"Pred_Neg\"])\n",
    "    print(cm_df)\n",
    "\n",
    "    metrics_df = pd.DataFrame(report).transpose()\n",
    "    return metrics_df"
   ]
  },
  {
   "cell_type": "code",
   "execution_count": 90,
   "id": "2dcc90c0",
   "metadata": {},
   "outputs": [
    {
     "name": "stdout",
     "output_type": "stream",
     "text": [
      "=== Accuracy ===\n",
      "Accuracy: 0.0000\n",
      "\n",
      "=== Classification Report ===\n",
      "              precision    recall  f1-score   support\n",
      "\n",
      "    Negative       0.00      0.00      0.00     639.0\n",
      "     Neutral       0.00      0.00      0.00     653.0\n",
      "    Positive       0.00      0.00      0.00     614.0\n",
      "[\"negative\"]       0.00      0.00      0.00       0.0\n",
      " [\"neutral\"]       0.00      0.00      0.00       0.0\n",
      "[\"positive\"]       0.00      0.00      0.00       0.0\n",
      "\n",
      "    accuracy                           0.00    1906.0\n",
      "   macro avg       0.00      0.00      0.00    1906.0\n",
      "weighted avg       0.00      0.00      0.00    1906.0\n",
      "\n",
      "=== Confusion Matrix ===\n"
     ]
    },
    {
     "name": "stderr",
     "output_type": "stream",
     "text": [
      "c:\\Users\\admin\\AppData\\Local\\Programs\\Python\\Python310\\lib\\site-packages\\sklearn\\metrics\\_classification.py:1531: UndefinedMetricWarning: Precision is ill-defined and being set to 0.0 in labels with no predicted samples. Use `zero_division` parameter to control this behavior.\n",
      "  _warn_prf(average, modifier, f\"{metric.capitalize()} is\", len(result))\n",
      "c:\\Users\\admin\\AppData\\Local\\Programs\\Python\\Python310\\lib\\site-packages\\sklearn\\metrics\\_classification.py:1531: UndefinedMetricWarning: Recall is ill-defined and being set to 0.0 in labels with no true samples. Use `zero_division` parameter to control this behavior.\n",
      "  _warn_prf(average, modifier, f\"{metric.capitalize()} is\", len(result))\n",
      "c:\\Users\\admin\\AppData\\Local\\Programs\\Python\\Python310\\lib\\site-packages\\sklearn\\metrics\\_classification.py:1531: UndefinedMetricWarning: Precision is ill-defined and being set to 0.0 in labels with no predicted samples. Use `zero_division` parameter to control this behavior.\n",
      "  _warn_prf(average, modifier, f\"{metric.capitalize()} is\", len(result))\n",
      "c:\\Users\\admin\\AppData\\Local\\Programs\\Python\\Python310\\lib\\site-packages\\sklearn\\metrics\\_classification.py:1531: UndefinedMetricWarning: Recall is ill-defined and being set to 0.0 in labels with no true samples. Use `zero_division` parameter to control this behavior.\n",
      "  _warn_prf(average, modifier, f\"{metric.capitalize()} is\", len(result))\n",
      "c:\\Users\\admin\\AppData\\Local\\Programs\\Python\\Python310\\lib\\site-packages\\sklearn\\metrics\\_classification.py:1531: UndefinedMetricWarning: Precision is ill-defined and being set to 0.0 in labels with no predicted samples. Use `zero_division` parameter to control this behavior.\n",
      "  _warn_prf(average, modifier, f\"{metric.capitalize()} is\", len(result))\n",
      "c:\\Users\\admin\\AppData\\Local\\Programs\\Python\\Python310\\lib\\site-packages\\sklearn\\metrics\\_classification.py:1531: UndefinedMetricWarning: Recall is ill-defined and being set to 0.0 in labels with no true samples. Use `zero_division` parameter to control this behavior.\n",
      "  _warn_prf(average, modifier, f\"{metric.capitalize()} is\", len(result))\n",
      "c:\\Users\\admin\\AppData\\Local\\Programs\\Python\\Python310\\lib\\site-packages\\sklearn\\metrics\\_classification.py:1531: UndefinedMetricWarning: Precision is ill-defined and being set to 0.0 in labels with no predicted samples. Use `zero_division` parameter to control this behavior.\n",
      "  _warn_prf(average, modifier, f\"{metric.capitalize()} is\", len(result))\n",
      "c:\\Users\\admin\\AppData\\Local\\Programs\\Python\\Python310\\lib\\site-packages\\sklearn\\metrics\\_classification.py:1531: UndefinedMetricWarning: Recall is ill-defined and being set to 0.0 in labels with no true samples. Use `zero_division` parameter to control this behavior.\n",
      "  _warn_prf(average, modifier, f\"{metric.capitalize()} is\", len(result))\n",
      "c:\\Users\\admin\\AppData\\Local\\Programs\\Python\\Python310\\lib\\site-packages\\sklearn\\metrics\\_classification.py:1531: UndefinedMetricWarning: Precision is ill-defined and being set to 0.0 in labels with no predicted samples. Use `zero_division` parameter to control this behavior.\n",
      "  _warn_prf(average, modifier, f\"{metric.capitalize()} is\", len(result))\n",
      "c:\\Users\\admin\\AppData\\Local\\Programs\\Python\\Python310\\lib\\site-packages\\sklearn\\metrics\\_classification.py:1531: UndefinedMetricWarning: Recall is ill-defined and being set to 0.0 in labels with no true samples. Use `zero_division` parameter to control this behavior.\n",
      "  _warn_prf(average, modifier, f\"{metric.capitalize()} is\", len(result))\n",
      "c:\\Users\\admin\\AppData\\Local\\Programs\\Python\\Python310\\lib\\site-packages\\sklearn\\metrics\\_classification.py:1531: UndefinedMetricWarning: Precision is ill-defined and being set to 0.0 in labels with no predicted samples. Use `zero_division` parameter to control this behavior.\n",
      "  _warn_prf(average, modifier, f\"{metric.capitalize()} is\", len(result))\n",
      "c:\\Users\\admin\\AppData\\Local\\Programs\\Python\\Python310\\lib\\site-packages\\sklearn\\metrics\\_classification.py:1531: UndefinedMetricWarning: Recall is ill-defined and being set to 0.0 in labels with no true samples. Use `zero_division` parameter to control this behavior.\n",
      "  _warn_prf(average, modifier, f\"{metric.capitalize()} is\", len(result))\n"
     ]
    },
    {
     "ename": "ValueError",
     "evalue": "At least one label specified must be in y_true",
     "output_type": "error",
     "traceback": [
      "\u001b[1;31m---------------------------------------------------------------------------\u001b[0m",
      "\u001b[1;31mValueError\u001b[0m                                Traceback (most recent call last)",
      "Cell \u001b[1;32mIn[90], line 2\u001b[0m\n\u001b[0;32m      1\u001b[0m \u001b[38;5;66;03m# Đánh giá\u001b[39;00m\n\u001b[1;32m----> 2\u001b[0m metrics_df \u001b[38;5;241m=\u001b[39m \u001b[43mevaluate_llm_predictions\u001b[49m\u001b[43m(\u001b[49m\u001b[43my_test\u001b[49m\u001b[43m,\u001b[49m\u001b[43m \u001b[49m\u001b[43mtest\u001b[49m\u001b[43m[\u001b[49m\u001b[38;5;124;43m'\u001b[39;49m\u001b[38;5;124;43mLabel\u001b[39;49m\u001b[38;5;124;43m'\u001b[39;49m\u001b[43m]\u001b[49m\u001b[43m)\u001b[49m\n",
      "Cell \u001b[1;32mIn[85], line 24\u001b[0m, in \u001b[0;36mevaluate_llm_predictions\u001b[1;34m(y_true, y_pred)\u001b[0m\n\u001b[0;32m     21\u001b[0m \u001b[38;5;28mprint\u001b[39m(classification_report(y_true, y_pred))\n\u001b[0;32m     23\u001b[0m \u001b[38;5;28mprint\u001b[39m(\u001b[38;5;124m\"\u001b[39m\u001b[38;5;124m=== Confusion Matrix ===\u001b[39m\u001b[38;5;124m\"\u001b[39m)\n\u001b[1;32m---> 24\u001b[0m cm \u001b[38;5;241m=\u001b[39m \u001b[43mconfusion_matrix\u001b[49m\u001b[43m(\u001b[49m\u001b[43my_true\u001b[49m\u001b[43m,\u001b[49m\u001b[43m \u001b[49m\u001b[43my_pred\u001b[49m\u001b[43m,\u001b[49m\u001b[43m \u001b[49m\u001b[43mlabels\u001b[49m\u001b[38;5;241;43m=\u001b[39;49m\u001b[43m[\u001b[49m\u001b[38;5;124;43m\"\u001b[39;49m\u001b[38;5;124;43mpositive\u001b[39;49m\u001b[38;5;124;43m\"\u001b[39;49m\u001b[43m,\u001b[49m\u001b[43m \u001b[49m\u001b[38;5;124;43m\"\u001b[39;49m\u001b[38;5;124;43mneutral\u001b[39;49m\u001b[38;5;124;43m\"\u001b[39;49m\u001b[43m,\u001b[49m\u001b[43m \u001b[49m\u001b[38;5;124;43m\"\u001b[39;49m\u001b[38;5;124;43mnegative\u001b[39;49m\u001b[38;5;124;43m\"\u001b[39;49m\u001b[43m]\u001b[49m\u001b[43m)\u001b[49m\n\u001b[0;32m     25\u001b[0m cm_df \u001b[38;5;241m=\u001b[39m pd\u001b[38;5;241m.\u001b[39mDataFrame(cm, index\u001b[38;5;241m=\u001b[39m[\u001b[38;5;124m\"\u001b[39m\u001b[38;5;124mTrue_Pos\u001b[39m\u001b[38;5;124m\"\u001b[39m, \u001b[38;5;124m\"\u001b[39m\u001b[38;5;124mTrue_Neu\u001b[39m\u001b[38;5;124m\"\u001b[39m, \u001b[38;5;124m\"\u001b[39m\u001b[38;5;124mTrue_Neg\u001b[39m\u001b[38;5;124m\"\u001b[39m], \n\u001b[0;32m     26\u001b[0m                           columns\u001b[38;5;241m=\u001b[39m[\u001b[38;5;124m\"\u001b[39m\u001b[38;5;124mPred_Pos\u001b[39m\u001b[38;5;124m\"\u001b[39m, \u001b[38;5;124m\"\u001b[39m\u001b[38;5;124mPred_Neu\u001b[39m\u001b[38;5;124m\"\u001b[39m, \u001b[38;5;124m\"\u001b[39m\u001b[38;5;124mPred_Neg\u001b[39m\u001b[38;5;124m\"\u001b[39m])\n\u001b[0;32m     27\u001b[0m \u001b[38;5;28mprint\u001b[39m(cm_df)\n",
      "File \u001b[1;32mc:\\Users\\admin\\AppData\\Local\\Programs\\Python\\Python310\\lib\\site-packages\\sklearn\\utils\\_param_validation.py:213\u001b[0m, in \u001b[0;36mvalidate_params.<locals>.decorator.<locals>.wrapper\u001b[1;34m(*args, **kwargs)\u001b[0m\n\u001b[0;32m    207\u001b[0m \u001b[38;5;28;01mtry\u001b[39;00m:\n\u001b[0;32m    208\u001b[0m     \u001b[38;5;28;01mwith\u001b[39;00m config_context(\n\u001b[0;32m    209\u001b[0m         skip_parameter_validation\u001b[38;5;241m=\u001b[39m(\n\u001b[0;32m    210\u001b[0m             prefer_skip_nested_validation \u001b[38;5;129;01mor\u001b[39;00m global_skip_validation\n\u001b[0;32m    211\u001b[0m         )\n\u001b[0;32m    212\u001b[0m     ):\n\u001b[1;32m--> 213\u001b[0m         \u001b[38;5;28;01mreturn\u001b[39;00m func(\u001b[38;5;241m*\u001b[39margs, \u001b[38;5;241m*\u001b[39m\u001b[38;5;241m*\u001b[39mkwargs)\n\u001b[0;32m    214\u001b[0m \u001b[38;5;28;01mexcept\u001b[39;00m InvalidParameterError \u001b[38;5;28;01mas\u001b[39;00m e:\n\u001b[0;32m    215\u001b[0m     \u001b[38;5;66;03m# When the function is just a wrapper around an estimator, we allow\u001b[39;00m\n\u001b[0;32m    216\u001b[0m     \u001b[38;5;66;03m# the function to delegate validation to the estimator, but we replace\u001b[39;00m\n\u001b[0;32m    217\u001b[0m     \u001b[38;5;66;03m# the name of the estimator by the name of the function in the error\u001b[39;00m\n\u001b[0;32m    218\u001b[0m     \u001b[38;5;66;03m# message to avoid confusion.\u001b[39;00m\n\u001b[0;32m    219\u001b[0m     msg \u001b[38;5;241m=\u001b[39m re\u001b[38;5;241m.\u001b[39msub(\n\u001b[0;32m    220\u001b[0m         \u001b[38;5;124mr\u001b[39m\u001b[38;5;124m\"\u001b[39m\u001b[38;5;124mparameter of \u001b[39m\u001b[38;5;124m\\\u001b[39m\u001b[38;5;124mw+ must be\u001b[39m\u001b[38;5;124m\"\u001b[39m,\n\u001b[0;32m    221\u001b[0m         \u001b[38;5;124mf\u001b[39m\u001b[38;5;124m\"\u001b[39m\u001b[38;5;124mparameter of \u001b[39m\u001b[38;5;132;01m{\u001b[39;00mfunc\u001b[38;5;241m.\u001b[39m\u001b[38;5;18m__qualname__\u001b[39m\u001b[38;5;132;01m}\u001b[39;00m\u001b[38;5;124m must be\u001b[39m\u001b[38;5;124m\"\u001b[39m,\n\u001b[0;32m    222\u001b[0m         \u001b[38;5;28mstr\u001b[39m(e),\n\u001b[0;32m    223\u001b[0m     )\n",
      "File \u001b[1;32mc:\\Users\\admin\\AppData\\Local\\Programs\\Python\\Python310\\lib\\site-packages\\sklearn\\metrics\\_classification.py:356\u001b[0m, in \u001b[0;36mconfusion_matrix\u001b[1;34m(y_true, y_pred, labels, sample_weight, normalize)\u001b[0m\n\u001b[0;32m    354\u001b[0m         \u001b[38;5;28;01mreturn\u001b[39;00m np\u001b[38;5;241m.\u001b[39mzeros((n_labels, n_labels), dtype\u001b[38;5;241m=\u001b[39m\u001b[38;5;28mint\u001b[39m)\n\u001b[0;32m    355\u001b[0m     \u001b[38;5;28;01melif\u001b[39;00m \u001b[38;5;28mlen\u001b[39m(np\u001b[38;5;241m.\u001b[39mintersect1d(y_true, labels)) \u001b[38;5;241m==\u001b[39m \u001b[38;5;241m0\u001b[39m:\n\u001b[1;32m--> 356\u001b[0m         \u001b[38;5;28;01mraise\u001b[39;00m \u001b[38;5;167;01mValueError\u001b[39;00m(\u001b[38;5;124m\"\u001b[39m\u001b[38;5;124mAt least one label specified must be in y_true\u001b[39m\u001b[38;5;124m\"\u001b[39m)\n\u001b[0;32m    358\u001b[0m \u001b[38;5;28;01mif\u001b[39;00m sample_weight \u001b[38;5;129;01mis\u001b[39;00m \u001b[38;5;28;01mNone\u001b[39;00m:\n\u001b[0;32m    359\u001b[0m     sample_weight \u001b[38;5;241m=\u001b[39m np\u001b[38;5;241m.\u001b[39mones(y_true\u001b[38;5;241m.\u001b[39mshape[\u001b[38;5;241m0\u001b[39m], dtype\u001b[38;5;241m=\u001b[39mnp\u001b[38;5;241m.\u001b[39mint64)\n",
      "\u001b[1;31mValueError\u001b[0m: At least one label specified must be in y_true"
     ]
    }
   ],
   "source": [
    "# Đánh giá\n",
    "metrics_df = evaluate_llm_predictions(y_test, test['Label'])"
   ]
  },
  {
   "cell_type": "code",
   "execution_count": 87,
   "id": "4d5db7fd",
   "metadata": {},
   "outputs": [
    {
     "name": "stderr",
     "output_type": "stream",
     "text": [
      "100%|██████████| 1906/1906 [14:54<00:00,  2.13it/s] \n"
     ]
    }
   ],
   "source": [
    "# Áp dụng lên toàn bộ DataFrame\n",
    "tqdm.pandas()\n",
    "test[\"Label\"] = test[\"Comment\"].progress_apply(analyze_sentiment)"
   ]
  },
  {
   "cell_type": "code",
   "execution_count": 88,
   "id": "fc0b4613",
   "metadata": {},
   "outputs": [
    {
     "name": "stdout",
     "output_type": "stream",
     "text": [
      "73      [\"negative\"]\n",
      "127     [\"negative\"]\n",
      "579     [\"negative\"]\n",
      "2164    [\"negative\"]\n",
      "408     [\"negative\"]\n",
      "            ...     \n",
      "3773     [\"neutral\"]\n",
      "2264    [\"negative\"]\n",
      "3689    [\"negative\"]\n",
      "3414    [\"negative\"]\n",
      "899     [\"negative\"]\n",
      "Name: Label, Length: 1906, dtype: object\n"
     ]
    }
   ],
   "source": [
    "print(test[\"Label\"])"
   ]
  },
  {
   "cell_type": "markdown",
   "id": "f0de4fb9",
   "metadata": {},
   "source": [
    "**Tổng kết**:\n",
    "* Các mô hình học máy Machine Learning sử dụng tốt trong các bài toán Sentiment Analysis.\n",
    "* Trừ trường hợp ngữ cảnh (context) quá phức tạp, các mô hình ngôn ngữ lớn (LLM) mới vượt trội hơn so với Machine Learning. Dữ liệu nhỏ không phải vấn đề\n",
    "* Lexicon- based: phù hợp với dữ liệu text có khuôn mẫu sẵn có hơn dạng free- style (do nó là ruled-based)"
   ]
  }
 ],
 "metadata": {
  "kernelspec": {
   "display_name": "Python 3",
   "language": "python",
   "name": "python3"
  },
  "language_info": {
   "codemirror_mode": {
    "name": "ipython",
    "version": 3
   },
   "file_extension": ".py",
   "mimetype": "text/x-python",
   "name": "python",
   "nbconvert_exporter": "python",
   "pygments_lexer": "ipython3",
   "version": "3.10.0"
  }
 },
 "nbformat": 4,
 "nbformat_minor": 5
}
